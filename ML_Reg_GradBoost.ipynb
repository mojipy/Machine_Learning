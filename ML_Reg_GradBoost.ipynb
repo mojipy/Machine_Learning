{
 "cells": [
  {
   "cell_type": "code",
   "execution_count": 1,
   "id": "95340984",
   "metadata": {},
   "outputs": [],
   "source": [
    "# Regression Project ver. 3"
   ]
  },
  {
   "cell_type": "code",
   "execution_count": 2,
   "id": "e0b80f83",
   "metadata": {},
   "outputs": [],
   "source": [
    "import matplotlib.pyplot as plt\n",
    "import pandas as pd\n",
    "import numpy as np\n",
    "%matplotlib inline"
   ]
  },
  {
   "cell_type": "code",
   "execution_count": 3,
   "id": "d50b809a",
   "metadata": {},
   "outputs": [
    {
     "name": "stdout",
     "output_type": "stream",
     "text": [
      "Length of dataset: 3479\n"
     ]
    },
    {
     "name": "stderr",
     "output_type": "stream",
     "text": [
      "  % Total    % Received % Xferd  Average Speed   Time    Time     Time  Current\n",
      "                                 Dload  Upload   Total   Spent    Left  Speed\n",
      "\n",
      "  0     0    0     0    0     0      0      0 --:--:-- --:--:-- --:--:--     0\n",
      " 51  185k   51 97702    0     0   113k      0  0:00:01 --:--:--  0:00:01  113k\n",
      "100  185k  100  185k    0     0   182k      0  0:00:01  0:00:01 --:--:--  182k\n"
     ]
    }
   ],
   "source": [
    "# Reading 'housePrice.csv' from https://maktabkhooneh.org\n",
    "!curl -o housePrice.csv https://maktabkhooneh.org/media/courses/projects/1632300362534233.csv\n",
    "df = pd.read_csv(\"housePrice.csv\")\n",
    "print('Length of dataset: %d' %len(df))"
   ]
  },
  {
   "cell_type": "code",
   "execution_count": 4,
   "id": "e769e8db",
   "metadata": {},
   "outputs": [
    {
     "data": {
      "text/plain": [
       "3456"
      ]
     },
     "execution_count": 4,
     "metadata": {},
     "output_type": "execute_result"
    }
   ],
   "source": [
    "# Removing NaNs\n",
    "df = df.dropna()\n",
    "len(df)"
   ]
  },
  {
   "cell_type": "code",
   "execution_count": 5,
   "id": "2cb57b25",
   "metadata": {
    "scrolled": true
   },
   "outputs": [
    {
     "data": {
      "text/html": [
       "<div>\n",
       "<style scoped>\n",
       "    .dataframe tbody tr th:only-of-type {\n",
       "        vertical-align: middle;\n",
       "    }\n",
       "\n",
       "    .dataframe tbody tr th {\n",
       "        vertical-align: top;\n",
       "    }\n",
       "\n",
       "    .dataframe thead th {\n",
       "        text-align: right;\n",
       "    }\n",
       "</style>\n",
       "<table border=\"1\" class=\"dataframe\">\n",
       "  <thead>\n",
       "    <tr style=\"text-align: right;\">\n",
       "      <th></th>\n",
       "      <th>Area</th>\n",
       "      <th>Room</th>\n",
       "      <th>Parking</th>\n",
       "      <th>Warehouse</th>\n",
       "      <th>Elevator</th>\n",
       "      <th>Address</th>\n",
       "      <th>Price</th>\n",
       "      <th>Price(USD)</th>\n",
       "    </tr>\n",
       "  </thead>\n",
       "  <tbody>\n",
       "    <tr>\n",
       "      <th>0</th>\n",
       "      <td>63</td>\n",
       "      <td>1</td>\n",
       "      <td>True</td>\n",
       "      <td>True</td>\n",
       "      <td>True</td>\n",
       "      <td>Shahran</td>\n",
       "      <td>1.850000e+09</td>\n",
       "      <td>61666.67</td>\n",
       "    </tr>\n",
       "    <tr>\n",
       "      <th>1</th>\n",
       "      <td>60</td>\n",
       "      <td>1</td>\n",
       "      <td>True</td>\n",
       "      <td>True</td>\n",
       "      <td>True</td>\n",
       "      <td>Shahran</td>\n",
       "      <td>1.850000e+09</td>\n",
       "      <td>61666.67</td>\n",
       "    </tr>\n",
       "    <tr>\n",
       "      <th>2</th>\n",
       "      <td>79</td>\n",
       "      <td>2</td>\n",
       "      <td>True</td>\n",
       "      <td>True</td>\n",
       "      <td>True</td>\n",
       "      <td>Pardis</td>\n",
       "      <td>5.500000e+08</td>\n",
       "      <td>18333.33</td>\n",
       "    </tr>\n",
       "    <tr>\n",
       "      <th>3</th>\n",
       "      <td>95</td>\n",
       "      <td>2</td>\n",
       "      <td>True</td>\n",
       "      <td>True</td>\n",
       "      <td>True</td>\n",
       "      <td>Shahrake Qods</td>\n",
       "      <td>9.025000e+08</td>\n",
       "      <td>30083.33</td>\n",
       "    </tr>\n",
       "    <tr>\n",
       "      <th>4</th>\n",
       "      <td>123</td>\n",
       "      <td>2</td>\n",
       "      <td>True</td>\n",
       "      <td>True</td>\n",
       "      <td>True</td>\n",
       "      <td>Shahrake Gharb</td>\n",
       "      <td>7.000000e+09</td>\n",
       "      <td>233333.33</td>\n",
       "    </tr>\n",
       "  </tbody>\n",
       "</table>\n",
       "</div>"
      ],
      "text/plain": [
       "  Area  Room  Parking  Warehouse  Elevator         Address         Price  \\\n",
       "0   63     1     True       True      True         Shahran  1.850000e+09   \n",
       "1   60     1     True       True      True         Shahran  1.850000e+09   \n",
       "2   79     2     True       True      True          Pardis  5.500000e+08   \n",
       "3   95     2     True       True      True   Shahrake Qods  9.025000e+08   \n",
       "4  123     2     True       True      True  Shahrake Gharb  7.000000e+09   \n",
       "\n",
       "   Price(USD)  \n",
       "0    61666.67  \n",
       "1    61666.67  \n",
       "2    18333.33  \n",
       "3    30083.33  \n",
       "4   233333.33  "
      ]
     },
     "execution_count": 5,
     "metadata": {},
     "output_type": "execute_result"
    }
   ],
   "source": [
    "df.head()"
   ]
  },
  {
   "cell_type": "markdown",
   "id": "86bb6bbc",
   "metadata": {},
   "source": [
    "# Pre-processing 1: Digitizing the Features"
   ]
  },
  {
   "cell_type": "code",
   "execution_count": 6,
   "id": "67efe14b",
   "metadata": {
    "scrolled": true
   },
   "outputs": [],
   "source": [
    "# Drop the entire column 'Price(USD)'\n",
    "df.drop('Price(USD)', axis='columns', inplace=True)"
   ]
  },
  {
   "cell_type": "code",
   "execution_count": 7,
   "id": "4cf95bca",
   "metadata": {},
   "outputs": [],
   "source": [
    "# Convert Area values to integer\n",
    "df['Area'] = df['Area'].str.strip() # remove leading and trailing spaces\n",
    "df['Area'] = df['Area'].str.replace(',','') # remove ','\n",
    "df['Area'] = pd.to_numeric(df['Area'])"
   ]
  },
  {
   "cell_type": "code",
   "execution_count": 8,
   "id": "138b6c43",
   "metadata": {},
   "outputs": [],
   "source": [
    "# Convert True/False to 1-0\n",
    "df['Elevator'] = df['Elevator'].astype(int)\n",
    "df['Warehouse'] = df['Warehouse'].astype(int)\n",
    "df['Parking'] = df['Parking'].astype(int)"
   ]
  },
  {
   "cell_type": "code",
   "execution_count": 9,
   "id": "d62129a5",
   "metadata": {},
   "outputs": [
    {
     "name": "stdout",
     "output_type": "stream",
     "text": [
      "There are 192 unique addresses Labeled as 0 to 191\n"
     ]
    }
   ],
   "source": [
    "# Encoding addresses\n",
    "from sklearn.preprocessing import LabelEncoder\n",
    "le = LabelEncoder()\n",
    "le.fit(df['Address'])\n",
    "df['Address'] = le.transform(df['Address'])\n",
    "print('There are %d unique addresses Labeled as 0 to %d'%(df['Address'].nunique(), df['Address'].nunique() - 1))"
   ]
  },
  {
   "cell_type": "code",
   "execution_count": 10,
   "id": "40c95dd6",
   "metadata": {},
   "outputs": [
    {
     "data": {
      "text/html": [
       "<div>\n",
       "<style scoped>\n",
       "    .dataframe tbody tr th:only-of-type {\n",
       "        vertical-align: middle;\n",
       "    }\n",
       "\n",
       "    .dataframe tbody tr th {\n",
       "        vertical-align: top;\n",
       "    }\n",
       "\n",
       "    .dataframe thead th {\n",
       "        text-align: right;\n",
       "    }\n",
       "</style>\n",
       "<table border=\"1\" class=\"dataframe\">\n",
       "  <thead>\n",
       "    <tr style=\"text-align: right;\">\n",
       "      <th></th>\n",
       "      <th>Area</th>\n",
       "      <th>Room</th>\n",
       "      <th>Parking</th>\n",
       "      <th>Warehouse</th>\n",
       "      <th>Elevator</th>\n",
       "      <th>Address</th>\n",
       "      <th>Price</th>\n",
       "    </tr>\n",
       "  </thead>\n",
       "  <tbody>\n",
       "    <tr>\n",
       "      <th>0</th>\n",
       "      <td>63</td>\n",
       "      <td>1</td>\n",
       "      <td>1</td>\n",
       "      <td>1</td>\n",
       "      <td>1</td>\n",
       "      <td>156</td>\n",
       "      <td>1.850000e+09</td>\n",
       "    </tr>\n",
       "    <tr>\n",
       "      <th>1</th>\n",
       "      <td>60</td>\n",
       "      <td>1</td>\n",
       "      <td>1</td>\n",
       "      <td>1</td>\n",
       "      <td>1</td>\n",
       "      <td>156</td>\n",
       "      <td>1.850000e+09</td>\n",
       "    </tr>\n",
       "    <tr>\n",
       "      <th>2</th>\n",
       "      <td>79</td>\n",
       "      <td>2</td>\n",
       "      <td>1</td>\n",
       "      <td>1</td>\n",
       "      <td>1</td>\n",
       "      <td>117</td>\n",
       "      <td>5.500000e+08</td>\n",
       "    </tr>\n",
       "    <tr>\n",
       "      <th>3</th>\n",
       "      <td>95</td>\n",
       "      <td>2</td>\n",
       "      <td>1</td>\n",
       "      <td>1</td>\n",
       "      <td>1</td>\n",
       "      <td>152</td>\n",
       "      <td>9.025000e+08</td>\n",
       "    </tr>\n",
       "    <tr>\n",
       "      <th>4</th>\n",
       "      <td>123</td>\n",
       "      <td>2</td>\n",
       "      <td>1</td>\n",
       "      <td>1</td>\n",
       "      <td>1</td>\n",
       "      <td>150</td>\n",
       "      <td>7.000000e+09</td>\n",
       "    </tr>\n",
       "  </tbody>\n",
       "</table>\n",
       "</div>"
      ],
      "text/plain": [
       "   Area  Room  Parking  Warehouse  Elevator  Address         Price\n",
       "0    63     1        1          1         1      156  1.850000e+09\n",
       "1    60     1        1          1         1      156  1.850000e+09\n",
       "2    79     2        1          1         1      117  5.500000e+08\n",
       "3    95     2        1          1         1      152  9.025000e+08\n",
       "4   123     2        1          1         1      150  7.000000e+09"
      ]
     },
     "execution_count": 10,
     "metadata": {},
     "output_type": "execute_result"
    }
   ],
   "source": [
    "df.head()"
   ]
  },
  {
   "cell_type": "markdown",
   "id": "bd1a9972",
   "metadata": {},
   "source": [
    "# Visualizing Data"
   ]
  },
  {
   "cell_type": "code",
   "execution_count": 11,
   "id": "5cd3c96a",
   "metadata": {},
   "outputs": [
    {
     "data": {
      "image/png": "[encoded data removed]",
      "text/plain": [
       "<Figure size 432x288 with 1 Axes>"
      ]
     },
     "metadata": {
      "needs_background": "light"
     },
     "output_type": "display_data"
    },
    {
     "data": {
      "image/png": "[encoded data removed]",
      "text/plain": [
       "<Figure size 432x288 with 1 Axes>"
      ]
     },
     "metadata": {
      "needs_background": "light"
     },
     "output_type": "display_data"
    },
    {
     "data": {
      "image/png": "[encoded data removed]",
      "text/plain": [
       "<Figure size 432x288 with 1 Axes>"
      ]
     },
     "metadata": {
      "needs_background": "light"
     },
     "output_type": "display_data"
    },
    {
     "data": {
      "image/png": "[encoded data removed]",
      "text/plain": [
       "<Figure size 432x288 with 1 Axes>"
      ]
     },
     "metadata": {
      "needs_background": "light"
     },
     "output_type": "display_data"
    },
    {
     "data": {
      "image/png": "[encoded data removed]",
      "text/plain": [
       "<Figure size 432x288 with 1 Axes>"
      ]
     },
     "metadata": {
      "needs_background": "light"
     },
     "output_type": "display_data"
    },
    {
     "data": {
      "image/png": "[encoded data removed]",
      "text/plain": [
       "<Figure size 432x288 with 1 Axes>"
      ]
     },
     "metadata": {
      "needs_background": "light"
     },
     "output_type": "display_data"
    },
    {
     "data": {
      "image/png": "[encoded data removed]",
      "text/plain": [
       "<Figure size 432x288 with 1 Axes>"
      ]
     },
     "metadata": {
      "needs_background": "light"
     },
     "output_type": "display_data"
    }
   ],
   "source": [
    "for column in df.columns:\n",
    "    plt.figure()\n",
    "    df[column].plot(kind='hist', edgecolor='black', bins=10)\n",
    "    plt.title(f'Histogram of {column}')\n",
    "    plt.xlabel(column)\n",
    "    plt.ylabel('Frequency')\n",
    "    plt.show()"
   ]
  },
  {
   "cell_type": "markdown",
   "id": "2e394c58",
   "metadata": {},
   "source": [
    "# Pre-processing 2: Removing Outliers"
   ]
  },
  {
   "cell_type": "code",
   "execution_count": 12,
   "id": "45fa0f01",
   "metadata": {},
   "outputs": [],
   "source": [
    "# Histogram of 'Room' shows some houses with 0 Room\n",
    "# Drop records with 0 room \n",
    "noRoom_Indices = df[df['Room'] == 0].index\n",
    "df.drop(noRoom_Indices, inplace=True)"
   ]
  },
  {
   "cell_type": "code",
   "execution_count": 13,
   "id": "8910343b",
   "metadata": {},
   "outputs": [
    {
     "data": {
      "text/plain": [
       "709     16160000000\n",
       "1604     8400000000\n",
       "570      3310000000\n",
       "2802     2550000000\n",
       "2171           3600\n",
       "807            1000\n",
       "1694            929\n",
       "1974            900\n",
       "573             863\n",
       "831             750\n",
       "Name: Area, dtype: int64"
      ]
     },
     "execution_count": 13,
     "metadata": {},
     "output_type": "execute_result"
    }
   ],
   "source": [
    "# Histogram of 'Area' shows some exceptionally large values\n",
    "# Drop records with area > threshold \n",
    "top10_areas = df['Area'].nlargest(10) # find large values\n",
    "top10_areas"
   ]
  },
  {
   "cell_type": "code",
   "execution_count": 14,
   "id": "4aa23cc4",
   "metadata": {
    "scrolled": true
   },
   "outputs": [],
   "source": [
    "area_threshold = 1000\n",
    "outlier_Indices = df[df['Area'] > area_threshold].index\n",
    "df.drop(outlier_Indices, inplace=True)"
   ]
  },
  {
   "cell_type": "code",
   "execution_count": 15,
   "id": "8e565f3e",
   "metadata": {},
   "outputs": [
    {
     "data": {
      "image/png": "[encoded data removed]",
      "text/plain": [
       "<Figure size 432x288 with 2 Axes>"
      ]
     },
     "metadata": {
      "needs_background": "light"
     },
     "output_type": "display_data"
    }
   ],
   "source": [
    "# histogram of 'Area' and \"Room\" after modifications\n",
    "viz = df[['Area','Room']]\n",
    "viz.hist()\n",
    "plt.show()"
   ]
  },
  {
   "cell_type": "code",
   "execution_count": 16,
   "id": "47d18932",
   "metadata": {
    "scrolled": true
   },
   "outputs": [
    {
     "data": {
      "image/png": "[encoded data removed]",
      "text/plain": [
       "<Figure size 720x576 with 2 Axes>"
      ]
     },
     "metadata": {
      "needs_background": "light"
     },
     "output_type": "display_data"
    }
   ],
   "source": [
    "# Plot the correlation matrix \n",
    "import seaborn as sns\n",
    "correlation_matrix = df.corr()\n",
    "\n",
    "plt.figure(figsize=(10, 8))\n",
    "sns.heatmap(correlation_matrix[['Price']], annot=True, cmap='coolwarm', linewidths=0.5)\n",
    "plt.title('Correlation with Price')\n",
    "plt.show()"
   ]
  },
  {
   "cell_type": "code",
   "execution_count": 17,
   "id": "7a8da940",
   "metadata": {},
   "outputs": [],
   "source": [
    "# The 'correlation = -0.079' for 'Address' may not be accurate since we know that 'Address' strongly influences the price.\n",
    "# We adjust the labeling so that addresses with higher prices are labeled as larger integers."
   ]
  },
  {
   "cell_type": "code",
   "execution_count": 18,
   "id": "19856617",
   "metadata": {},
   "outputs": [],
   "source": [
    "# First, we introduce a new variable 'price per area.'\n",
    "df['price_per_area'] = df['Price'] / df['Area'] # a new column for df\n",
    "\n",
    "# Then, we compute the average price per area for each unique address.\n",
    "average_price_per_area = df.groupby('Address')['price_per_area'].mean().sort_values()\n",
    "\n",
    "address_mapping = {address_code: i for i, address_code in enumerate(average_price_per_area.index)}\n",
    "\n",
    "df['Address'] = df['Address'].map(address_mapping)"
   ]
  },
  {
   "cell_type": "code",
   "execution_count": 19,
   "id": "231f0e6a",
   "metadata": {},
   "outputs": [
    {
     "data": {
      "image/png": "[encoded data removed]",
      "text/plain": [
       "<Figure size 720x576 with 2 Axes>"
      ]
     },
     "metadata": {
      "needs_background": "light"
     },
     "output_type": "display_data"
    }
   ],
   "source": [
    "# Now we check again the correlations\n",
    "\n",
    "# Plot the correlation matrix \n",
    "import seaborn as sns\n",
    "correlation_matrix = df.corr()\n",
    "\n",
    "plt.figure(figsize=(10, 8))\n",
    "sns.heatmap(correlation_matrix[['Price']], annot=True, cmap='coolwarm', linewidths=0.5)\n",
    "plt.title('Correlation with Price')\n",
    "plt.show()"
   ]
  },
  {
   "cell_type": "code",
   "execution_count": 20,
   "id": "abca5272",
   "metadata": {},
   "outputs": [],
   "source": [
    "# The 'correlation = 0.53' for 'Address' is now acceptable after adjusting label assignments"
   ]
  },
  {
   "cell_type": "code",
   "execution_count": 21,
   "id": "f01b8930",
   "metadata": {},
   "outputs": [],
   "source": [
    "# creating a copy\n",
    "df_org = df.copy()"
   ]
  },
  {
   "cell_type": "code",
   "execution_count": 22,
   "id": "ad1c3ba6",
   "metadata": {
    "scrolled": true
   },
   "outputs": [
    {
     "data": {
      "text/html": [
       "<div>\n",
       "<style scoped>\n",
       "    .dataframe tbody tr th:only-of-type {\n",
       "        vertical-align: middle;\n",
       "    }\n",
       "\n",
       "    .dataframe tbody tr th {\n",
       "        vertical-align: top;\n",
       "    }\n",
       "\n",
       "    .dataframe thead th {\n",
       "        text-align: right;\n",
       "    }\n",
       "</style>\n",
       "<table border=\"1\" class=\"dataframe\">\n",
       "  <thead>\n",
       "    <tr style=\"text-align: right;\">\n",
       "      <th></th>\n",
       "      <th>Area</th>\n",
       "      <th>Room</th>\n",
       "      <th>Parking</th>\n",
       "      <th>Warehouse</th>\n",
       "      <th>Elevator</th>\n",
       "      <th>Address</th>\n",
       "      <th>Price</th>\n",
       "      <th>price_per_area</th>\n",
       "    </tr>\n",
       "  </thead>\n",
       "  <tbody>\n",
       "    <tr>\n",
       "      <th>count</th>\n",
       "      <td>3441.000000</td>\n",
       "      <td>3441.000000</td>\n",
       "      <td>3441.000000</td>\n",
       "      <td>3441.000000</td>\n",
       "      <td>3441.000000</td>\n",
       "      <td>3441.000000</td>\n",
       "      <td>3.441000e+03</td>\n",
       "      <td>3.441000e+03</td>\n",
       "    </tr>\n",
       "    <tr>\n",
       "      <th>mean</th>\n",
       "      <td>107.174659</td>\n",
       "      <td>2.087184</td>\n",
       "      <td>0.849462</td>\n",
       "      <td>0.916303</td>\n",
       "      <td>0.789015</td>\n",
       "      <td>108.318803</td>\n",
       "      <td>5.368813e+09</td>\n",
       "      <td>4.132835e+07</td>\n",
       "    </tr>\n",
       "    <tr>\n",
       "      <th>std</th>\n",
       "      <td>70.656741</td>\n",
       "      <td>0.752871</td>\n",
       "      <td>0.357650</td>\n",
       "      <td>0.276973</td>\n",
       "      <td>0.408067</td>\n",
       "      <td>54.709309</td>\n",
       "      <td>8.043872e+09</td>\n",
       "      <td>3.162989e+07</td>\n",
       "    </tr>\n",
       "    <tr>\n",
       "      <th>min</th>\n",
       "      <td>32.000000</td>\n",
       "      <td>1.000000</td>\n",
       "      <td>0.000000</td>\n",
       "      <td>0.000000</td>\n",
       "      <td>0.000000</td>\n",
       "      <td>0.000000</td>\n",
       "      <td>3.600000e+06</td>\n",
       "      <td>2.250000e+04</td>\n",
       "    </tr>\n",
       "    <tr>\n",
       "      <th>25%</th>\n",
       "      <td>69.000000</td>\n",
       "      <td>2.000000</td>\n",
       "      <td>1.000000</td>\n",
       "      <td>1.000000</td>\n",
       "      <td>1.000000</td>\n",
       "      <td>71.000000</td>\n",
       "      <td>1.440000e+09</td>\n",
       "      <td>2.000000e+07</td>\n",
       "    </tr>\n",
       "    <tr>\n",
       "      <th>50%</th>\n",
       "      <td>90.000000</td>\n",
       "      <td>2.000000</td>\n",
       "      <td>1.000000</td>\n",
       "      <td>1.000000</td>\n",
       "      <td>1.000000</td>\n",
       "      <td>117.000000</td>\n",
       "      <td>2.900000e+09</td>\n",
       "      <td>3.476190e+07</td>\n",
       "    </tr>\n",
       "    <tr>\n",
       "      <th>75%</th>\n",
       "      <td>120.000000</td>\n",
       "      <td>2.000000</td>\n",
       "      <td>1.000000</td>\n",
       "      <td>1.000000</td>\n",
       "      <td>1.000000</td>\n",
       "      <td>157.000000</td>\n",
       "      <td>6.000000e+09</td>\n",
       "      <td>5.500000e+07</td>\n",
       "    </tr>\n",
       "    <tr>\n",
       "      <th>max</th>\n",
       "      <td>1000.000000</td>\n",
       "      <td>5.000000</td>\n",
       "      <td>1.000000</td>\n",
       "      <td>1.000000</td>\n",
       "      <td>1.000000</td>\n",
       "      <td>191.000000</td>\n",
       "      <td>9.240000e+10</td>\n",
       "      <td>4.166667e+08</td>\n",
       "    </tr>\n",
       "  </tbody>\n",
       "</table>\n",
       "</div>"
      ],
      "text/plain": [
       "              Area         Room      Parking    Warehouse     Elevator  \\\n",
       "count  3441.000000  3441.000000  3441.000000  3441.000000  3441.000000   \n",
       "mean    107.174659     2.087184     0.849462     0.916303     0.789015   \n",
       "std      70.656741     0.752871     0.357650     0.276973     0.408067   \n",
       "min      32.000000     1.000000     0.000000     0.000000     0.000000   \n",
       "25%      69.000000     2.000000     1.000000     1.000000     1.000000   \n",
       "50%      90.000000     2.000000     1.000000     1.000000     1.000000   \n",
       "75%     120.000000     2.000000     1.000000     1.000000     1.000000   \n",
       "max    1000.000000     5.000000     1.000000     1.000000     1.000000   \n",
       "\n",
       "           Address         Price  price_per_area  \n",
       "count  3441.000000  3.441000e+03    3.441000e+03  \n",
       "mean    108.318803  5.368813e+09    4.132835e+07  \n",
       "std      54.709309  8.043872e+09    3.162989e+07  \n",
       "min       0.000000  3.600000e+06    2.250000e+04  \n",
       "25%      71.000000  1.440000e+09    2.000000e+07  \n",
       "50%     117.000000  2.900000e+09    3.476190e+07  \n",
       "75%     157.000000  6.000000e+09    5.500000e+07  \n",
       "max     191.000000  9.240000e+10    4.166667e+08  "
      ]
     },
     "execution_count": 22,
     "metadata": {},
     "output_type": "execute_result"
    }
   ],
   "source": [
    "# summarize the data\n",
    "df.describe()"
   ]
  },
  {
   "cell_type": "code",
   "execution_count": 23,
   "id": "652a1450",
   "metadata": {},
   "outputs": [
    {
     "name": "stderr",
     "output_type": "stream",
     "text": [
      "<ipython-input-23-3d6720bad1c1>:11: UserWarning: Boolean Series key will be reindexed to match DataFrame index.\n",
      "  outlier_Inds = df_addr[(df_addr['price_per_area'] < lower_bound) | (df['price_per_area'] > upper_bound)].index\n",
      "<ipython-input-23-3d6720bad1c1>:11: UserWarning: Boolean Series key will be reindexed to match DataFrame index.\n",
      "  outlier_Inds = df_addr[(df_addr['price_per_area'] < lower_bound) | (df['price_per_area'] > upper_bound)].index\n",
      "<ipython-input-23-3d6720bad1c1>:11: UserWarning: Boolean Series key will be reindexed to match DataFrame index.\n",
      "  outlier_Inds = df_addr[(df_addr['price_per_area'] < lower_bound) | (df['price_per_area'] > upper_bound)].index\n",
      "<ipython-input-23-3d6720bad1c1>:11: UserWarning: Boolean Series key will be reindexed to match DataFrame index.\n",
      "  outlier_Inds = df_addr[(df_addr['price_per_area'] < lower_bound) | (df['price_per_area'] > upper_bound)].index\n",
      "<ipython-input-23-3d6720bad1c1>:11: UserWarning: Boolean Series key will be reindexed to match DataFrame index.\n",
      "  outlier_Inds = df_addr[(df_addr['price_per_area'] < lower_bound) | (df['price_per_area'] > upper_bound)].index\n",
      "<ipython-input-23-3d6720bad1c1>:11: UserWarning: Boolean Series key will be reindexed to match DataFrame index.\n",
      "  outlier_Inds = df_addr[(df_addr['price_per_area'] < lower_bound) | (df['price_per_area'] > upper_bound)].index\n",
      "<ipython-input-23-3d6720bad1c1>:11: UserWarning: Boolean Series key will be reindexed to match DataFrame index.\n",
      "  outlier_Inds = df_addr[(df_addr['price_per_area'] < lower_bound) | (df['price_per_area'] > upper_bound)].index\n",
      "<ipython-input-23-3d6720bad1c1>:11: UserWarning: Boolean Series key will be reindexed to match DataFrame index.\n",
      "  outlier_Inds = df_addr[(df_addr['price_per_area'] < lower_bound) | (df['price_per_area'] > upper_bound)].index\n",
      "<ipython-input-23-3d6720bad1c1>:11: UserWarning: Boolean Series key will be reindexed to match DataFrame index.\n",
      "  outlier_Inds = df_addr[(df_addr['price_per_area'] < lower_bound) | (df['price_per_area'] > upper_bound)].index\n",
      "<ipython-input-23-3d6720bad1c1>:11: UserWarning: Boolean Series key will be reindexed to match DataFrame index.\n",
      "  outlier_Inds = df_addr[(df_addr['price_per_area'] < lower_bound) | (df['price_per_area'] > upper_bound)].index\n",
      "<ipython-input-23-3d6720bad1c1>:11: UserWarning: Boolean Series key will be reindexed to match DataFrame index.\n",
      "  outlier_Inds = df_addr[(df_addr['price_per_area'] < lower_bound) | (df['price_per_area'] > upper_bound)].index\n",
      "<ipython-input-23-3d6720bad1c1>:11: UserWarning: Boolean Series key will be reindexed to match DataFrame index.\n",
      "  outlier_Inds = df_addr[(df_addr['price_per_area'] < lower_bound) | (df['price_per_area'] > upper_bound)].index\n",
      "<ipython-input-23-3d6720bad1c1>:11: UserWarning: Boolean Series key will be reindexed to match DataFrame index.\n",
      "  outlier_Inds = df_addr[(df_addr['price_per_area'] < lower_bound) | (df['price_per_area'] > upper_bound)].index\n",
      "<ipython-input-23-3d6720bad1c1>:11: UserWarning: Boolean Series key will be reindexed to match DataFrame index.\n",
      "  outlier_Inds = df_addr[(df_addr['price_per_area'] < lower_bound) | (df['price_per_area'] > upper_bound)].index\n",
      "<ipython-input-23-3d6720bad1c1>:11: UserWarning: Boolean Series key will be reindexed to match DataFrame index.\n",
      "  outlier_Inds = df_addr[(df_addr['price_per_area'] < lower_bound) | (df['price_per_area'] > upper_bound)].index\n",
      "<ipython-input-23-3d6720bad1c1>:11: UserWarning: Boolean Series key will be reindexed to match DataFrame index.\n",
      "  outlier_Inds = df_addr[(df_addr['price_per_area'] < lower_bound) | (df['price_per_area'] > upper_bound)].index\n",
      "<ipython-input-23-3d6720bad1c1>:11: UserWarning: Boolean Series key will be reindexed to match DataFrame index.\n",
      "  outlier_Inds = df_addr[(df_addr['price_per_area'] < lower_bound) | (df['price_per_area'] > upper_bound)].index\n",
      "<ipython-input-23-3d6720bad1c1>:11: UserWarning: Boolean Series key will be reindexed to match DataFrame index.\n",
      "  outlier_Inds = df_addr[(df_addr['price_per_area'] < lower_bound) | (df['price_per_area'] > upper_bound)].index\n",
      "<ipython-input-23-3d6720bad1c1>:11: UserWarning: Boolean Series key will be reindexed to match DataFrame index.\n",
      "  outlier_Inds = df_addr[(df_addr['price_per_area'] < lower_bound) | (df['price_per_area'] > upper_bound)].index\n",
      "<ipython-input-23-3d6720bad1c1>:11: UserWarning: Boolean Series key will be reindexed to match DataFrame index.\n",
      "  outlier_Inds = df_addr[(df_addr['price_per_area'] < lower_bound) | (df['price_per_area'] > upper_bound)].index\n",
      "<ipython-input-23-3d6720bad1c1>:11: UserWarning: Boolean Series key will be reindexed to match DataFrame index.\n",
      "  outlier_Inds = df_addr[(df_addr['price_per_area'] < lower_bound) | (df['price_per_area'] > upper_bound)].index\n",
      "<ipython-input-23-3d6720bad1c1>:11: UserWarning: Boolean Series key will be reindexed to match DataFrame index.\n",
      "  outlier_Inds = df_addr[(df_addr['price_per_area'] < lower_bound) | (df['price_per_area'] > upper_bound)].index\n",
      "<ipython-input-23-3d6720bad1c1>:11: UserWarning: Boolean Series key will be reindexed to match DataFrame index.\n",
      "  outlier_Inds = df_addr[(df_addr['price_per_area'] < lower_bound) | (df['price_per_area'] > upper_bound)].index\n",
      "<ipython-input-23-3d6720bad1c1>:11: UserWarning: Boolean Series key will be reindexed to match DataFrame index.\n",
      "  outlier_Inds = df_addr[(df_addr['price_per_area'] < lower_bound) | (df['price_per_area'] > upper_bound)].index\n",
      "<ipython-input-23-3d6720bad1c1>:11: UserWarning: Boolean Series key will be reindexed to match DataFrame index.\n",
      "  outlier_Inds = df_addr[(df_addr['price_per_area'] < lower_bound) | (df['price_per_area'] > upper_bound)].index\n",
      "<ipython-input-23-3d6720bad1c1>:11: UserWarning: Boolean Series key will be reindexed to match DataFrame index.\n",
      "  outlier_Inds = df_addr[(df_addr['price_per_area'] < lower_bound) | (df['price_per_area'] > upper_bound)].index\n",
      "<ipython-input-23-3d6720bad1c1>:11: UserWarning: Boolean Series key will be reindexed to match DataFrame index.\n",
      "  outlier_Inds = df_addr[(df_addr['price_per_area'] < lower_bound) | (df['price_per_area'] > upper_bound)].index\n",
      "<ipython-input-23-3d6720bad1c1>:11: UserWarning: Boolean Series key will be reindexed to match DataFrame index.\n",
      "  outlier_Inds = df_addr[(df_addr['price_per_area'] < lower_bound) | (df['price_per_area'] > upper_bound)].index\n",
      "<ipython-input-23-3d6720bad1c1>:11: UserWarning: Boolean Series key will be reindexed to match DataFrame index.\n",
      "  outlier_Inds = df_addr[(df_addr['price_per_area'] < lower_bound) | (df['price_per_area'] > upper_bound)].index\n",
      "<ipython-input-23-3d6720bad1c1>:11: UserWarning: Boolean Series key will be reindexed to match DataFrame index.\n",
      "  outlier_Inds = df_addr[(df_addr['price_per_area'] < lower_bound) | (df['price_per_area'] > upper_bound)].index\n",
      "<ipython-input-23-3d6720bad1c1>:11: UserWarning: Boolean Series key will be reindexed to match DataFrame index.\n",
      "  outlier_Inds = df_addr[(df_addr['price_per_area'] < lower_bound) | (df['price_per_area'] > upper_bound)].index\n",
      "<ipython-input-23-3d6720bad1c1>:11: UserWarning: Boolean Series key will be reindexed to match DataFrame index.\n",
      "  outlier_Inds = df_addr[(df_addr['price_per_area'] < lower_bound) | (df['price_per_area'] > upper_bound)].index\n",
      "<ipython-input-23-3d6720bad1c1>:11: UserWarning: Boolean Series key will be reindexed to match DataFrame index.\n",
      "  outlier_Inds = df_addr[(df_addr['price_per_area'] < lower_bound) | (df['price_per_area'] > upper_bound)].index\n",
      "<ipython-input-23-3d6720bad1c1>:11: UserWarning: Boolean Series key will be reindexed to match DataFrame index.\n",
      "  outlier_Inds = df_addr[(df_addr['price_per_area'] < lower_bound) | (df['price_per_area'] > upper_bound)].index\n",
      "<ipython-input-23-3d6720bad1c1>:11: UserWarning: Boolean Series key will be reindexed to match DataFrame index.\n",
      "  outlier_Inds = df_addr[(df_addr['price_per_area'] < lower_bound) | (df['price_per_area'] > upper_bound)].index\n",
      "<ipython-input-23-3d6720bad1c1>:11: UserWarning: Boolean Series key will be reindexed to match DataFrame index.\n",
      "  outlier_Inds = df_addr[(df_addr['price_per_area'] < lower_bound) | (df['price_per_area'] > upper_bound)].index\n",
      "<ipython-input-23-3d6720bad1c1>:11: UserWarning: Boolean Series key will be reindexed to match DataFrame index.\n",
      "  outlier_Inds = df_addr[(df_addr['price_per_area'] < lower_bound) | (df['price_per_area'] > upper_bound)].index\n"
     ]
    },
    {
     "name": "stderr",
     "output_type": "stream",
     "text": [
      "<ipython-input-23-3d6720bad1c1>:11: UserWarning: Boolean Series key will be reindexed to match DataFrame index.\n",
      "  outlier_Inds = df_addr[(df_addr['price_per_area'] < lower_bound) | (df['price_per_area'] > upper_bound)].index\n",
      "<ipython-input-23-3d6720bad1c1>:11: UserWarning: Boolean Series key will be reindexed to match DataFrame index.\n",
      "  outlier_Inds = df_addr[(df_addr['price_per_area'] < lower_bound) | (df['price_per_area'] > upper_bound)].index\n",
      "<ipython-input-23-3d6720bad1c1>:11: UserWarning: Boolean Series key will be reindexed to match DataFrame index.\n",
      "  outlier_Inds = df_addr[(df_addr['price_per_area'] < lower_bound) | (df['price_per_area'] > upper_bound)].index\n",
      "<ipython-input-23-3d6720bad1c1>:11: UserWarning: Boolean Series key will be reindexed to match DataFrame index.\n",
      "  outlier_Inds = df_addr[(df_addr['price_per_area'] < lower_bound) | (df['price_per_area'] > upper_bound)].index\n",
      "<ipython-input-23-3d6720bad1c1>:11: UserWarning: Boolean Series key will be reindexed to match DataFrame index.\n",
      "  outlier_Inds = df_addr[(df_addr['price_per_area'] < lower_bound) | (df['price_per_area'] > upper_bound)].index\n",
      "<ipython-input-23-3d6720bad1c1>:11: UserWarning: Boolean Series key will be reindexed to match DataFrame index.\n",
      "  outlier_Inds = df_addr[(df_addr['price_per_area'] < lower_bound) | (df['price_per_area'] > upper_bound)].index\n",
      "<ipython-input-23-3d6720bad1c1>:11: UserWarning: Boolean Series key will be reindexed to match DataFrame index.\n",
      "  outlier_Inds = df_addr[(df_addr['price_per_area'] < lower_bound) | (df['price_per_area'] > upper_bound)].index\n",
      "<ipython-input-23-3d6720bad1c1>:11: UserWarning: Boolean Series key will be reindexed to match DataFrame index.\n",
      "  outlier_Inds = df_addr[(df_addr['price_per_area'] < lower_bound) | (df['price_per_area'] > upper_bound)].index\n",
      "<ipython-input-23-3d6720bad1c1>:11: UserWarning: Boolean Series key will be reindexed to match DataFrame index.\n",
      "  outlier_Inds = df_addr[(df_addr['price_per_area'] < lower_bound) | (df['price_per_area'] > upper_bound)].index\n",
      "<ipython-input-23-3d6720bad1c1>:11: UserWarning: Boolean Series key will be reindexed to match DataFrame index.\n",
      "  outlier_Inds = df_addr[(df_addr['price_per_area'] < lower_bound) | (df['price_per_area'] > upper_bound)].index\n",
      "<ipython-input-23-3d6720bad1c1>:11: UserWarning: Boolean Series key will be reindexed to match DataFrame index.\n",
      "  outlier_Inds = df_addr[(df_addr['price_per_area'] < lower_bound) | (df['price_per_area'] > upper_bound)].index\n",
      "<ipython-input-23-3d6720bad1c1>:11: UserWarning: Boolean Series key will be reindexed to match DataFrame index.\n",
      "  outlier_Inds = df_addr[(df_addr['price_per_area'] < lower_bound) | (df['price_per_area'] > upper_bound)].index\n",
      "<ipython-input-23-3d6720bad1c1>:11: UserWarning: Boolean Series key will be reindexed to match DataFrame index.\n",
      "  outlier_Inds = df_addr[(df_addr['price_per_area'] < lower_bound) | (df['price_per_area'] > upper_bound)].index\n",
      "<ipython-input-23-3d6720bad1c1>:11: UserWarning: Boolean Series key will be reindexed to match DataFrame index.\n",
      "  outlier_Inds = df_addr[(df_addr['price_per_area'] < lower_bound) | (df['price_per_area'] > upper_bound)].index\n",
      "<ipython-input-23-3d6720bad1c1>:11: UserWarning: Boolean Series key will be reindexed to match DataFrame index.\n",
      "  outlier_Inds = df_addr[(df_addr['price_per_area'] < lower_bound) | (df['price_per_area'] > upper_bound)].index\n",
      "<ipython-input-23-3d6720bad1c1>:11: UserWarning: Boolean Series key will be reindexed to match DataFrame index.\n",
      "  outlier_Inds = df_addr[(df_addr['price_per_area'] < lower_bound) | (df['price_per_area'] > upper_bound)].index\n",
      "<ipython-input-23-3d6720bad1c1>:11: UserWarning: Boolean Series key will be reindexed to match DataFrame index.\n",
      "  outlier_Inds = df_addr[(df_addr['price_per_area'] < lower_bound) | (df['price_per_area'] > upper_bound)].index\n",
      "<ipython-input-23-3d6720bad1c1>:11: UserWarning: Boolean Series key will be reindexed to match DataFrame index.\n",
      "  outlier_Inds = df_addr[(df_addr['price_per_area'] < lower_bound) | (df['price_per_area'] > upper_bound)].index\n",
      "<ipython-input-23-3d6720bad1c1>:11: UserWarning: Boolean Series key will be reindexed to match DataFrame index.\n",
      "  outlier_Inds = df_addr[(df_addr['price_per_area'] < lower_bound) | (df['price_per_area'] > upper_bound)].index\n",
      "<ipython-input-23-3d6720bad1c1>:11: UserWarning: Boolean Series key will be reindexed to match DataFrame index.\n",
      "  outlier_Inds = df_addr[(df_addr['price_per_area'] < lower_bound) | (df['price_per_area'] > upper_bound)].index\n",
      "<ipython-input-23-3d6720bad1c1>:11: UserWarning: Boolean Series key will be reindexed to match DataFrame index.\n",
      "  outlier_Inds = df_addr[(df_addr['price_per_area'] < lower_bound) | (df['price_per_area'] > upper_bound)].index\n",
      "<ipython-input-23-3d6720bad1c1>:11: UserWarning: Boolean Series key will be reindexed to match DataFrame index.\n",
      "  outlier_Inds = df_addr[(df_addr['price_per_area'] < lower_bound) | (df['price_per_area'] > upper_bound)].index\n",
      "<ipython-input-23-3d6720bad1c1>:11: UserWarning: Boolean Series key will be reindexed to match DataFrame index.\n",
      "  outlier_Inds = df_addr[(df_addr['price_per_area'] < lower_bound) | (df['price_per_area'] > upper_bound)].index\n",
      "<ipython-input-23-3d6720bad1c1>:11: UserWarning: Boolean Series key will be reindexed to match DataFrame index.\n",
      "  outlier_Inds = df_addr[(df_addr['price_per_area'] < lower_bound) | (df['price_per_area'] > upper_bound)].index\n",
      "<ipython-input-23-3d6720bad1c1>:11: UserWarning: Boolean Series key will be reindexed to match DataFrame index.\n",
      "  outlier_Inds = df_addr[(df_addr['price_per_area'] < lower_bound) | (df['price_per_area'] > upper_bound)].index\n",
      "<ipython-input-23-3d6720bad1c1>:11: UserWarning: Boolean Series key will be reindexed to match DataFrame index.\n",
      "  outlier_Inds = df_addr[(df_addr['price_per_area'] < lower_bound) | (df['price_per_area'] > upper_bound)].index\n",
      "<ipython-input-23-3d6720bad1c1>:11: UserWarning: Boolean Series key will be reindexed to match DataFrame index.\n",
      "  outlier_Inds = df_addr[(df_addr['price_per_area'] < lower_bound) | (df['price_per_area'] > upper_bound)].index\n",
      "<ipython-input-23-3d6720bad1c1>:11: UserWarning: Boolean Series key will be reindexed to match DataFrame index.\n",
      "  outlier_Inds = df_addr[(df_addr['price_per_area'] < lower_bound) | (df['price_per_area'] > upper_bound)].index\n",
      "<ipython-input-23-3d6720bad1c1>:11: UserWarning: Boolean Series key will be reindexed to match DataFrame index.\n",
      "  outlier_Inds = df_addr[(df_addr['price_per_area'] < lower_bound) | (df['price_per_area'] > upper_bound)].index\n",
      "<ipython-input-23-3d6720bad1c1>:11: UserWarning: Boolean Series key will be reindexed to match DataFrame index.\n",
      "  outlier_Inds = df_addr[(df_addr['price_per_area'] < lower_bound) | (df['price_per_area'] > upper_bound)].index\n",
      "<ipython-input-23-3d6720bad1c1>:11: UserWarning: Boolean Series key will be reindexed to match DataFrame index.\n",
      "  outlier_Inds = df_addr[(df_addr['price_per_area'] < lower_bound) | (df['price_per_area'] > upper_bound)].index\n",
      "<ipython-input-23-3d6720bad1c1>:11: UserWarning: Boolean Series key will be reindexed to match DataFrame index.\n",
      "  outlier_Inds = df_addr[(df_addr['price_per_area'] < lower_bound) | (df['price_per_area'] > upper_bound)].index\n",
      "<ipython-input-23-3d6720bad1c1>:11: UserWarning: Boolean Series key will be reindexed to match DataFrame index.\n",
      "  outlier_Inds = df_addr[(df_addr['price_per_area'] < lower_bound) | (df['price_per_area'] > upper_bound)].index\n",
      "<ipython-input-23-3d6720bad1c1>:11: UserWarning: Boolean Series key will be reindexed to match DataFrame index.\n",
      "  outlier_Inds = df_addr[(df_addr['price_per_area'] < lower_bound) | (df['price_per_area'] > upper_bound)].index\n",
      "<ipython-input-23-3d6720bad1c1>:11: UserWarning: Boolean Series key will be reindexed to match DataFrame index.\n",
      "  outlier_Inds = df_addr[(df_addr['price_per_area'] < lower_bound) | (df['price_per_area'] > upper_bound)].index\n",
      "<ipython-input-23-3d6720bad1c1>:11: UserWarning: Boolean Series key will be reindexed to match DataFrame index.\n",
      "  outlier_Inds = df_addr[(df_addr['price_per_area'] < lower_bound) | (df['price_per_area'] > upper_bound)].index\n",
      "<ipython-input-23-3d6720bad1c1>:11: UserWarning: Boolean Series key will be reindexed to match DataFrame index.\n",
      "  outlier_Inds = df_addr[(df_addr['price_per_area'] < lower_bound) | (df['price_per_area'] > upper_bound)].index\n",
      "<ipython-input-23-3d6720bad1c1>:11: UserWarning: Boolean Series key will be reindexed to match DataFrame index.\n",
      "  outlier_Inds = df_addr[(df_addr['price_per_area'] < lower_bound) | (df['price_per_area'] > upper_bound)].index\n",
      "<ipython-input-23-3d6720bad1c1>:11: UserWarning: Boolean Series key will be reindexed to match DataFrame index.\n",
      "  outlier_Inds = df_addr[(df_addr['price_per_area'] < lower_bound) | (df['price_per_area'] > upper_bound)].index\n"
     ]
    },
    {
     "name": "stderr",
     "output_type": "stream",
     "text": [
      "<ipython-input-23-3d6720bad1c1>:11: UserWarning: Boolean Series key will be reindexed to match DataFrame index.\n",
      "  outlier_Inds = df_addr[(df_addr['price_per_area'] < lower_bound) | (df['price_per_area'] > upper_bound)].index\n",
      "<ipython-input-23-3d6720bad1c1>:11: UserWarning: Boolean Series key will be reindexed to match DataFrame index.\n",
      "  outlier_Inds = df_addr[(df_addr['price_per_area'] < lower_bound) | (df['price_per_area'] > upper_bound)].index\n",
      "<ipython-input-23-3d6720bad1c1>:11: UserWarning: Boolean Series key will be reindexed to match DataFrame index.\n",
      "  outlier_Inds = df_addr[(df_addr['price_per_area'] < lower_bound) | (df['price_per_area'] > upper_bound)].index\n",
      "<ipython-input-23-3d6720bad1c1>:11: UserWarning: Boolean Series key will be reindexed to match DataFrame index.\n",
      "  outlier_Inds = df_addr[(df_addr['price_per_area'] < lower_bound) | (df['price_per_area'] > upper_bound)].index\n",
      "<ipython-input-23-3d6720bad1c1>:11: UserWarning: Boolean Series key will be reindexed to match DataFrame index.\n",
      "  outlier_Inds = df_addr[(df_addr['price_per_area'] < lower_bound) | (df['price_per_area'] > upper_bound)].index\n",
      "<ipython-input-23-3d6720bad1c1>:11: UserWarning: Boolean Series key will be reindexed to match DataFrame index.\n",
      "  outlier_Inds = df_addr[(df_addr['price_per_area'] < lower_bound) | (df['price_per_area'] > upper_bound)].index\n",
      "<ipython-input-23-3d6720bad1c1>:11: UserWarning: Boolean Series key will be reindexed to match DataFrame index.\n",
      "  outlier_Inds = df_addr[(df_addr['price_per_area'] < lower_bound) | (df['price_per_area'] > upper_bound)].index\n",
      "<ipython-input-23-3d6720bad1c1>:11: UserWarning: Boolean Series key will be reindexed to match DataFrame index.\n",
      "  outlier_Inds = df_addr[(df_addr['price_per_area'] < lower_bound) | (df['price_per_area'] > upper_bound)].index\n",
      "<ipython-input-23-3d6720bad1c1>:11: UserWarning: Boolean Series key will be reindexed to match DataFrame index.\n",
      "  outlier_Inds = df_addr[(df_addr['price_per_area'] < lower_bound) | (df['price_per_area'] > upper_bound)].index\n",
      "<ipython-input-23-3d6720bad1c1>:11: UserWarning: Boolean Series key will be reindexed to match DataFrame index.\n",
      "  outlier_Inds = df_addr[(df_addr['price_per_area'] < lower_bound) | (df['price_per_area'] > upper_bound)].index\n",
      "<ipython-input-23-3d6720bad1c1>:11: UserWarning: Boolean Series key will be reindexed to match DataFrame index.\n",
      "  outlier_Inds = df_addr[(df_addr['price_per_area'] < lower_bound) | (df['price_per_area'] > upper_bound)].index\n",
      "<ipython-input-23-3d6720bad1c1>:11: UserWarning: Boolean Series key will be reindexed to match DataFrame index.\n",
      "  outlier_Inds = df_addr[(df_addr['price_per_area'] < lower_bound) | (df['price_per_area'] > upper_bound)].index\n",
      "<ipython-input-23-3d6720bad1c1>:11: UserWarning: Boolean Series key will be reindexed to match DataFrame index.\n",
      "  outlier_Inds = df_addr[(df_addr['price_per_area'] < lower_bound) | (df['price_per_area'] > upper_bound)].index\n",
      "<ipython-input-23-3d6720bad1c1>:11: UserWarning: Boolean Series key will be reindexed to match DataFrame index.\n",
      "  outlier_Inds = df_addr[(df_addr['price_per_area'] < lower_bound) | (df['price_per_area'] > upper_bound)].index\n",
      "<ipython-input-23-3d6720bad1c1>:11: UserWarning: Boolean Series key will be reindexed to match DataFrame index.\n",
      "  outlier_Inds = df_addr[(df_addr['price_per_area'] < lower_bound) | (df['price_per_area'] > upper_bound)].index\n",
      "<ipython-input-23-3d6720bad1c1>:11: UserWarning: Boolean Series key will be reindexed to match DataFrame index.\n",
      "  outlier_Inds = df_addr[(df_addr['price_per_area'] < lower_bound) | (df['price_per_area'] > upper_bound)].index\n",
      "<ipython-input-23-3d6720bad1c1>:11: UserWarning: Boolean Series key will be reindexed to match DataFrame index.\n",
      "  outlier_Inds = df_addr[(df_addr['price_per_area'] < lower_bound) | (df['price_per_area'] > upper_bound)].index\n",
      "<ipython-input-23-3d6720bad1c1>:11: UserWarning: Boolean Series key will be reindexed to match DataFrame index.\n",
      "  outlier_Inds = df_addr[(df_addr['price_per_area'] < lower_bound) | (df['price_per_area'] > upper_bound)].index\n",
      "<ipython-input-23-3d6720bad1c1>:11: UserWarning: Boolean Series key will be reindexed to match DataFrame index.\n",
      "  outlier_Inds = df_addr[(df_addr['price_per_area'] < lower_bound) | (df['price_per_area'] > upper_bound)].index\n",
      "<ipython-input-23-3d6720bad1c1>:11: UserWarning: Boolean Series key will be reindexed to match DataFrame index.\n",
      "  outlier_Inds = df_addr[(df_addr['price_per_area'] < lower_bound) | (df['price_per_area'] > upper_bound)].index\n",
      "<ipython-input-23-3d6720bad1c1>:11: UserWarning: Boolean Series key will be reindexed to match DataFrame index.\n",
      "  outlier_Inds = df_addr[(df_addr['price_per_area'] < lower_bound) | (df['price_per_area'] > upper_bound)].index\n",
      "<ipython-input-23-3d6720bad1c1>:11: UserWarning: Boolean Series key will be reindexed to match DataFrame index.\n",
      "  outlier_Inds = df_addr[(df_addr['price_per_area'] < lower_bound) | (df['price_per_area'] > upper_bound)].index\n",
      "<ipython-input-23-3d6720bad1c1>:11: UserWarning: Boolean Series key will be reindexed to match DataFrame index.\n",
      "  outlier_Inds = df_addr[(df_addr['price_per_area'] < lower_bound) | (df['price_per_area'] > upper_bound)].index\n",
      "<ipython-input-23-3d6720bad1c1>:11: UserWarning: Boolean Series key will be reindexed to match DataFrame index.\n",
      "  outlier_Inds = df_addr[(df_addr['price_per_area'] < lower_bound) | (df['price_per_area'] > upper_bound)].index\n",
      "<ipython-input-23-3d6720bad1c1>:11: UserWarning: Boolean Series key will be reindexed to match DataFrame index.\n",
      "  outlier_Inds = df_addr[(df_addr['price_per_area'] < lower_bound) | (df['price_per_area'] > upper_bound)].index\n",
      "<ipython-input-23-3d6720bad1c1>:11: UserWarning: Boolean Series key will be reindexed to match DataFrame index.\n",
      "  outlier_Inds = df_addr[(df_addr['price_per_area'] < lower_bound) | (df['price_per_area'] > upper_bound)].index\n",
      "<ipython-input-23-3d6720bad1c1>:11: UserWarning: Boolean Series key will be reindexed to match DataFrame index.\n",
      "  outlier_Inds = df_addr[(df_addr['price_per_area'] < lower_bound) | (df['price_per_area'] > upper_bound)].index\n",
      "<ipython-input-23-3d6720bad1c1>:11: UserWarning: Boolean Series key will be reindexed to match DataFrame index.\n",
      "  outlier_Inds = df_addr[(df_addr['price_per_area'] < lower_bound) | (df['price_per_area'] > upper_bound)].index\n",
      "<ipython-input-23-3d6720bad1c1>:11: UserWarning: Boolean Series key will be reindexed to match DataFrame index.\n",
      "  outlier_Inds = df_addr[(df_addr['price_per_area'] < lower_bound) | (df['price_per_area'] > upper_bound)].index\n",
      "<ipython-input-23-3d6720bad1c1>:11: UserWarning: Boolean Series key will be reindexed to match DataFrame index.\n",
      "  outlier_Inds = df_addr[(df_addr['price_per_area'] < lower_bound) | (df['price_per_area'] > upper_bound)].index\n",
      "<ipython-input-23-3d6720bad1c1>:11: UserWarning: Boolean Series key will be reindexed to match DataFrame index.\n",
      "  outlier_Inds = df_addr[(df_addr['price_per_area'] < lower_bound) | (df['price_per_area'] > upper_bound)].index\n",
      "<ipython-input-23-3d6720bad1c1>:11: UserWarning: Boolean Series key will be reindexed to match DataFrame index.\n",
      "  outlier_Inds = df_addr[(df_addr['price_per_area'] < lower_bound) | (df['price_per_area'] > upper_bound)].index\n",
      "<ipython-input-23-3d6720bad1c1>:11: UserWarning: Boolean Series key will be reindexed to match DataFrame index.\n",
      "  outlier_Inds = df_addr[(df_addr['price_per_area'] < lower_bound) | (df['price_per_area'] > upper_bound)].index\n",
      "<ipython-input-23-3d6720bad1c1>:11: UserWarning: Boolean Series key will be reindexed to match DataFrame index.\n",
      "  outlier_Inds = df_addr[(df_addr['price_per_area'] < lower_bound) | (df['price_per_area'] > upper_bound)].index\n",
      "<ipython-input-23-3d6720bad1c1>:11: UserWarning: Boolean Series key will be reindexed to match DataFrame index.\n",
      "  outlier_Inds = df_addr[(df_addr['price_per_area'] < lower_bound) | (df['price_per_area'] > upper_bound)].index\n",
      "<ipython-input-23-3d6720bad1c1>:11: UserWarning: Boolean Series key will be reindexed to match DataFrame index.\n",
      "  outlier_Inds = df_addr[(df_addr['price_per_area'] < lower_bound) | (df['price_per_area'] > upper_bound)].index\n",
      "<ipython-input-23-3d6720bad1c1>:11: UserWarning: Boolean Series key will be reindexed to match DataFrame index.\n",
      "  outlier_Inds = df_addr[(df_addr['price_per_area'] < lower_bound) | (df['price_per_area'] > upper_bound)].index\n",
      "<ipython-input-23-3d6720bad1c1>:11: UserWarning: Boolean Series key will be reindexed to match DataFrame index.\n",
      "  outlier_Inds = df_addr[(df_addr['price_per_area'] < lower_bound) | (df['price_per_area'] > upper_bound)].index\n"
     ]
    },
    {
     "name": "stderr",
     "output_type": "stream",
     "text": [
      "<ipython-input-23-3d6720bad1c1>:11: UserWarning: Boolean Series key will be reindexed to match DataFrame index.\n",
      "  outlier_Inds = df_addr[(df_addr['price_per_area'] < lower_bound) | (df['price_per_area'] > upper_bound)].index\n",
      "<ipython-input-23-3d6720bad1c1>:11: UserWarning: Boolean Series key will be reindexed to match DataFrame index.\n",
      "  outlier_Inds = df_addr[(df_addr['price_per_area'] < lower_bound) | (df['price_per_area'] > upper_bound)].index\n",
      "<ipython-input-23-3d6720bad1c1>:11: UserWarning: Boolean Series key will be reindexed to match DataFrame index.\n",
      "  outlier_Inds = df_addr[(df_addr['price_per_area'] < lower_bound) | (df['price_per_area'] > upper_bound)].index\n",
      "<ipython-input-23-3d6720bad1c1>:11: UserWarning: Boolean Series key will be reindexed to match DataFrame index.\n",
      "  outlier_Inds = df_addr[(df_addr['price_per_area'] < lower_bound) | (df['price_per_area'] > upper_bound)].index\n",
      "<ipython-input-23-3d6720bad1c1>:11: UserWarning: Boolean Series key will be reindexed to match DataFrame index.\n",
      "  outlier_Inds = df_addr[(df_addr['price_per_area'] < lower_bound) | (df['price_per_area'] > upper_bound)].index\n",
      "<ipython-input-23-3d6720bad1c1>:11: UserWarning: Boolean Series key will be reindexed to match DataFrame index.\n",
      "  outlier_Inds = df_addr[(df_addr['price_per_area'] < lower_bound) | (df['price_per_area'] > upper_bound)].index\n",
      "<ipython-input-23-3d6720bad1c1>:11: UserWarning: Boolean Series key will be reindexed to match DataFrame index.\n",
      "  outlier_Inds = df_addr[(df_addr['price_per_area'] < lower_bound) | (df['price_per_area'] > upper_bound)].index\n",
      "<ipython-input-23-3d6720bad1c1>:11: UserWarning: Boolean Series key will be reindexed to match DataFrame index.\n",
      "  outlier_Inds = df_addr[(df_addr['price_per_area'] < lower_bound) | (df['price_per_area'] > upper_bound)].index\n",
      "<ipython-input-23-3d6720bad1c1>:11: UserWarning: Boolean Series key will be reindexed to match DataFrame index.\n",
      "  outlier_Inds = df_addr[(df_addr['price_per_area'] < lower_bound) | (df['price_per_area'] > upper_bound)].index\n",
      "<ipython-input-23-3d6720bad1c1>:11: UserWarning: Boolean Series key will be reindexed to match DataFrame index.\n",
      "  outlier_Inds = df_addr[(df_addr['price_per_area'] < lower_bound) | (df['price_per_area'] > upper_bound)].index\n",
      "<ipython-input-23-3d6720bad1c1>:11: UserWarning: Boolean Series key will be reindexed to match DataFrame index.\n",
      "  outlier_Inds = df_addr[(df_addr['price_per_area'] < lower_bound) | (df['price_per_area'] > upper_bound)].index\n",
      "<ipython-input-23-3d6720bad1c1>:11: UserWarning: Boolean Series key will be reindexed to match DataFrame index.\n",
      "  outlier_Inds = df_addr[(df_addr['price_per_area'] < lower_bound) | (df['price_per_area'] > upper_bound)].index\n",
      "<ipython-input-23-3d6720bad1c1>:11: UserWarning: Boolean Series key will be reindexed to match DataFrame index.\n",
      "  outlier_Inds = df_addr[(df_addr['price_per_area'] < lower_bound) | (df['price_per_area'] > upper_bound)].index\n",
      "<ipython-input-23-3d6720bad1c1>:11: UserWarning: Boolean Series key will be reindexed to match DataFrame index.\n",
      "  outlier_Inds = df_addr[(df_addr['price_per_area'] < lower_bound) | (df['price_per_area'] > upper_bound)].index\n",
      "<ipython-input-23-3d6720bad1c1>:11: UserWarning: Boolean Series key will be reindexed to match DataFrame index.\n",
      "  outlier_Inds = df_addr[(df_addr['price_per_area'] < lower_bound) | (df['price_per_area'] > upper_bound)].index\n",
      "<ipython-input-23-3d6720bad1c1>:11: UserWarning: Boolean Series key will be reindexed to match DataFrame index.\n",
      "  outlier_Inds = df_addr[(df_addr['price_per_area'] < lower_bound) | (df['price_per_area'] > upper_bound)].index\n",
      "<ipython-input-23-3d6720bad1c1>:11: UserWarning: Boolean Series key will be reindexed to match DataFrame index.\n",
      "  outlier_Inds = df_addr[(df_addr['price_per_area'] < lower_bound) | (df['price_per_area'] > upper_bound)].index\n",
      "<ipython-input-23-3d6720bad1c1>:11: UserWarning: Boolean Series key will be reindexed to match DataFrame index.\n",
      "  outlier_Inds = df_addr[(df_addr['price_per_area'] < lower_bound) | (df['price_per_area'] > upper_bound)].index\n",
      "<ipython-input-23-3d6720bad1c1>:11: UserWarning: Boolean Series key will be reindexed to match DataFrame index.\n",
      "  outlier_Inds = df_addr[(df_addr['price_per_area'] < lower_bound) | (df['price_per_area'] > upper_bound)].index\n",
      "<ipython-input-23-3d6720bad1c1>:11: UserWarning: Boolean Series key will be reindexed to match DataFrame index.\n",
      "  outlier_Inds = df_addr[(df_addr['price_per_area'] < lower_bound) | (df['price_per_area'] > upper_bound)].index\n",
      "<ipython-input-23-3d6720bad1c1>:11: UserWarning: Boolean Series key will be reindexed to match DataFrame index.\n",
      "  outlier_Inds = df_addr[(df_addr['price_per_area'] < lower_bound) | (df['price_per_area'] > upper_bound)].index\n",
      "<ipython-input-23-3d6720bad1c1>:11: UserWarning: Boolean Series key will be reindexed to match DataFrame index.\n",
      "  outlier_Inds = df_addr[(df_addr['price_per_area'] < lower_bound) | (df['price_per_area'] > upper_bound)].index\n",
      "<ipython-input-23-3d6720bad1c1>:11: UserWarning: Boolean Series key will be reindexed to match DataFrame index.\n",
      "  outlier_Inds = df_addr[(df_addr['price_per_area'] < lower_bound) | (df['price_per_area'] > upper_bound)].index\n",
      "<ipython-input-23-3d6720bad1c1>:11: UserWarning: Boolean Series key will be reindexed to match DataFrame index.\n",
      "  outlier_Inds = df_addr[(df_addr['price_per_area'] < lower_bound) | (df['price_per_area'] > upper_bound)].index\n",
      "<ipython-input-23-3d6720bad1c1>:11: UserWarning: Boolean Series key will be reindexed to match DataFrame index.\n",
      "  outlier_Inds = df_addr[(df_addr['price_per_area'] < lower_bound) | (df['price_per_area'] > upper_bound)].index\n",
      "<ipython-input-23-3d6720bad1c1>:11: UserWarning: Boolean Series key will be reindexed to match DataFrame index.\n",
      "  outlier_Inds = df_addr[(df_addr['price_per_area'] < lower_bound) | (df['price_per_area'] > upper_bound)].index\n",
      "<ipython-input-23-3d6720bad1c1>:11: UserWarning: Boolean Series key will be reindexed to match DataFrame index.\n",
      "  outlier_Inds = df_addr[(df_addr['price_per_area'] < lower_bound) | (df['price_per_area'] > upper_bound)].index\n",
      "<ipython-input-23-3d6720bad1c1>:11: UserWarning: Boolean Series key will be reindexed to match DataFrame index.\n",
      "  outlier_Inds = df_addr[(df_addr['price_per_area'] < lower_bound) | (df['price_per_area'] > upper_bound)].index\n",
      "<ipython-input-23-3d6720bad1c1>:11: UserWarning: Boolean Series key will be reindexed to match DataFrame index.\n",
      "  outlier_Inds = df_addr[(df_addr['price_per_area'] < lower_bound) | (df['price_per_area'] > upper_bound)].index\n",
      "<ipython-input-23-3d6720bad1c1>:11: UserWarning: Boolean Series key will be reindexed to match DataFrame index.\n",
      "  outlier_Inds = df_addr[(df_addr['price_per_area'] < lower_bound) | (df['price_per_area'] > upper_bound)].index\n",
      "<ipython-input-23-3d6720bad1c1>:11: UserWarning: Boolean Series key will be reindexed to match DataFrame index.\n",
      "  outlier_Inds = df_addr[(df_addr['price_per_area'] < lower_bound) | (df['price_per_area'] > upper_bound)].index\n",
      "<ipython-input-23-3d6720bad1c1>:11: UserWarning: Boolean Series key will be reindexed to match DataFrame index.\n",
      "  outlier_Inds = df_addr[(df_addr['price_per_area'] < lower_bound) | (df['price_per_area'] > upper_bound)].index\n",
      "<ipython-input-23-3d6720bad1c1>:11: UserWarning: Boolean Series key will be reindexed to match DataFrame index.\n",
      "  outlier_Inds = df_addr[(df_addr['price_per_area'] < lower_bound) | (df['price_per_area'] > upper_bound)].index\n",
      "<ipython-input-23-3d6720bad1c1>:11: UserWarning: Boolean Series key will be reindexed to match DataFrame index.\n",
      "  outlier_Inds = df_addr[(df_addr['price_per_area'] < lower_bound) | (df['price_per_area'] > upper_bound)].index\n",
      "<ipython-input-23-3d6720bad1c1>:11: UserWarning: Boolean Series key will be reindexed to match DataFrame index.\n",
      "  outlier_Inds = df_addr[(df_addr['price_per_area'] < lower_bound) | (df['price_per_area'] > upper_bound)].index\n",
      "<ipython-input-23-3d6720bad1c1>:11: UserWarning: Boolean Series key will be reindexed to match DataFrame index.\n",
      "  outlier_Inds = df_addr[(df_addr['price_per_area'] < lower_bound) | (df['price_per_area'] > upper_bound)].index\n",
      "<ipython-input-23-3d6720bad1c1>:11: UserWarning: Boolean Series key will be reindexed to match DataFrame index.\n",
      "  outlier_Inds = df_addr[(df_addr['price_per_area'] < lower_bound) | (df['price_per_area'] > upper_bound)].index\n",
      "<ipython-input-23-3d6720bad1c1>:11: UserWarning: Boolean Series key will be reindexed to match DataFrame index.\n",
      "  outlier_Inds = df_addr[(df_addr['price_per_area'] < lower_bound) | (df['price_per_area'] > upper_bound)].index\n",
      "<ipython-input-23-3d6720bad1c1>:11: UserWarning: Boolean Series key will be reindexed to match DataFrame index.\n",
      "  outlier_Inds = df_addr[(df_addr['price_per_area'] < lower_bound) | (df['price_per_area'] > upper_bound)].index\n",
      "<ipython-input-23-3d6720bad1c1>:11: UserWarning: Boolean Series key will be reindexed to match DataFrame index.\n",
      "  outlier_Inds = df_addr[(df_addr['price_per_area'] < lower_bound) | (df['price_per_area'] > upper_bound)].index\n",
      "<ipython-input-23-3d6720bad1c1>:11: UserWarning: Boolean Series key will be reindexed to match DataFrame index.\n",
      "  outlier_Inds = df_addr[(df_addr['price_per_area'] < lower_bound) | (df['price_per_area'] > upper_bound)].index\n",
      "<ipython-input-23-3d6720bad1c1>:11: UserWarning: Boolean Series key will be reindexed to match DataFrame index.\n",
      "  outlier_Inds = df_addr[(df_addr['price_per_area'] < lower_bound) | (df['price_per_area'] > upper_bound)].index\n",
      "<ipython-input-23-3d6720bad1c1>:11: UserWarning: Boolean Series key will be reindexed to match DataFrame index.\n",
      "  outlier_Inds = df_addr[(df_addr['price_per_area'] < lower_bound) | (df['price_per_area'] > upper_bound)].index\n"
     ]
    },
    {
     "name": "stderr",
     "output_type": "stream",
     "text": [
      "<ipython-input-23-3d6720bad1c1>:11: UserWarning: Boolean Series key will be reindexed to match DataFrame index.\n",
      "  outlier_Inds = df_addr[(df_addr['price_per_area'] < lower_bound) | (df['price_per_area'] > upper_bound)].index\n",
      "<ipython-input-23-3d6720bad1c1>:11: UserWarning: Boolean Series key will be reindexed to match DataFrame index.\n",
      "  outlier_Inds = df_addr[(df_addr['price_per_area'] < lower_bound) | (df['price_per_area'] > upper_bound)].index\n",
      "<ipython-input-23-3d6720bad1c1>:11: UserWarning: Boolean Series key will be reindexed to match DataFrame index.\n",
      "  outlier_Inds = df_addr[(df_addr['price_per_area'] < lower_bound) | (df['price_per_area'] > upper_bound)].index\n",
      "<ipython-input-23-3d6720bad1c1>:11: UserWarning: Boolean Series key will be reindexed to match DataFrame index.\n",
      "  outlier_Inds = df_addr[(df_addr['price_per_area'] < lower_bound) | (df['price_per_area'] > upper_bound)].index\n",
      "<ipython-input-23-3d6720bad1c1>:11: UserWarning: Boolean Series key will be reindexed to match DataFrame index.\n",
      "  outlier_Inds = df_addr[(df_addr['price_per_area'] < lower_bound) | (df['price_per_area'] > upper_bound)].index\n",
      "<ipython-input-23-3d6720bad1c1>:11: UserWarning: Boolean Series key will be reindexed to match DataFrame index.\n",
      "  outlier_Inds = df_addr[(df_addr['price_per_area'] < lower_bound) | (df['price_per_area'] > upper_bound)].index\n",
      "<ipython-input-23-3d6720bad1c1>:11: UserWarning: Boolean Series key will be reindexed to match DataFrame index.\n",
      "  outlier_Inds = df_addr[(df_addr['price_per_area'] < lower_bound) | (df['price_per_area'] > upper_bound)].index\n",
      "<ipython-input-23-3d6720bad1c1>:11: UserWarning: Boolean Series key will be reindexed to match DataFrame index.\n",
      "  outlier_Inds = df_addr[(df_addr['price_per_area'] < lower_bound) | (df['price_per_area'] > upper_bound)].index\n",
      "<ipython-input-23-3d6720bad1c1>:11: UserWarning: Boolean Series key will be reindexed to match DataFrame index.\n",
      "  outlier_Inds = df_addr[(df_addr['price_per_area'] < lower_bound) | (df['price_per_area'] > upper_bound)].index\n",
      "<ipython-input-23-3d6720bad1c1>:11: UserWarning: Boolean Series key will be reindexed to match DataFrame index.\n",
      "  outlier_Inds = df_addr[(df_addr['price_per_area'] < lower_bound) | (df['price_per_area'] > upper_bound)].index\n",
      "<ipython-input-23-3d6720bad1c1>:11: UserWarning: Boolean Series key will be reindexed to match DataFrame index.\n",
      "  outlier_Inds = df_addr[(df_addr['price_per_area'] < lower_bound) | (df['price_per_area'] > upper_bound)].index\n",
      "<ipython-input-23-3d6720bad1c1>:11: UserWarning: Boolean Series key will be reindexed to match DataFrame index.\n",
      "  outlier_Inds = df_addr[(df_addr['price_per_area'] < lower_bound) | (df['price_per_area'] > upper_bound)].index\n",
      "<ipython-input-23-3d6720bad1c1>:11: UserWarning: Boolean Series key will be reindexed to match DataFrame index.\n",
      "  outlier_Inds = df_addr[(df_addr['price_per_area'] < lower_bound) | (df['price_per_area'] > upper_bound)].index\n",
      "<ipython-input-23-3d6720bad1c1>:11: UserWarning: Boolean Series key will be reindexed to match DataFrame index.\n",
      "  outlier_Inds = df_addr[(df_addr['price_per_area'] < lower_bound) | (df['price_per_area'] > upper_bound)].index\n",
      "<ipython-input-23-3d6720bad1c1>:11: UserWarning: Boolean Series key will be reindexed to match DataFrame index.\n",
      "  outlier_Inds = df_addr[(df_addr['price_per_area'] < lower_bound) | (df['price_per_area'] > upper_bound)].index\n",
      "<ipython-input-23-3d6720bad1c1>:11: UserWarning: Boolean Series key will be reindexed to match DataFrame index.\n",
      "  outlier_Inds = df_addr[(df_addr['price_per_area'] < lower_bound) | (df['price_per_area'] > upper_bound)].index\n",
      "<ipython-input-23-3d6720bad1c1>:11: UserWarning: Boolean Series key will be reindexed to match DataFrame index.\n",
      "  outlier_Inds = df_addr[(df_addr['price_per_area'] < lower_bound) | (df['price_per_area'] > upper_bound)].index\n",
      "<ipython-input-23-3d6720bad1c1>:11: UserWarning: Boolean Series key will be reindexed to match DataFrame index.\n",
      "  outlier_Inds = df_addr[(df_addr['price_per_area'] < lower_bound) | (df['price_per_area'] > upper_bound)].index\n",
      "<ipython-input-23-3d6720bad1c1>:11: UserWarning: Boolean Series key will be reindexed to match DataFrame index.\n",
      "  outlier_Inds = df_addr[(df_addr['price_per_area'] < lower_bound) | (df['price_per_area'] > upper_bound)].index\n",
      "<ipython-input-23-3d6720bad1c1>:11: UserWarning: Boolean Series key will be reindexed to match DataFrame index.\n",
      "  outlier_Inds = df_addr[(df_addr['price_per_area'] < lower_bound) | (df['price_per_area'] > upper_bound)].index\n",
      "<ipython-input-23-3d6720bad1c1>:11: UserWarning: Boolean Series key will be reindexed to match DataFrame index.\n",
      "  outlier_Inds = df_addr[(df_addr['price_per_area'] < lower_bound) | (df['price_per_area'] > upper_bound)].index\n",
      "<ipython-input-23-3d6720bad1c1>:11: UserWarning: Boolean Series key will be reindexed to match DataFrame index.\n",
      "  outlier_Inds = df_addr[(df_addr['price_per_area'] < lower_bound) | (df['price_per_area'] > upper_bound)].index\n",
      "<ipython-input-23-3d6720bad1c1>:11: UserWarning: Boolean Series key will be reindexed to match DataFrame index.\n",
      "  outlier_Inds = df_addr[(df_addr['price_per_area'] < lower_bound) | (df['price_per_area'] > upper_bound)].index\n",
      "<ipython-input-23-3d6720bad1c1>:11: UserWarning: Boolean Series key will be reindexed to match DataFrame index.\n",
      "  outlier_Inds = df_addr[(df_addr['price_per_area'] < lower_bound) | (df['price_per_area'] > upper_bound)].index\n",
      "<ipython-input-23-3d6720bad1c1>:11: UserWarning: Boolean Series key will be reindexed to match DataFrame index.\n",
      "  outlier_Inds = df_addr[(df_addr['price_per_area'] < lower_bound) | (df['price_per_area'] > upper_bound)].index\n",
      "<ipython-input-23-3d6720bad1c1>:11: UserWarning: Boolean Series key will be reindexed to match DataFrame index.\n",
      "  outlier_Inds = df_addr[(df_addr['price_per_area'] < lower_bound) | (df['price_per_area'] > upper_bound)].index\n",
      "<ipython-input-23-3d6720bad1c1>:11: UserWarning: Boolean Series key will be reindexed to match DataFrame index.\n",
      "  outlier_Inds = df_addr[(df_addr['price_per_area'] < lower_bound) | (df['price_per_area'] > upper_bound)].index\n",
      "<ipython-input-23-3d6720bad1c1>:11: UserWarning: Boolean Series key will be reindexed to match DataFrame index.\n",
      "  outlier_Inds = df_addr[(df_addr['price_per_area'] < lower_bound) | (df['price_per_area'] > upper_bound)].index\n",
      "<ipython-input-23-3d6720bad1c1>:11: UserWarning: Boolean Series key will be reindexed to match DataFrame index.\n",
      "  outlier_Inds = df_addr[(df_addr['price_per_area'] < lower_bound) | (df['price_per_area'] > upper_bound)].index\n",
      "<ipython-input-23-3d6720bad1c1>:11: UserWarning: Boolean Series key will be reindexed to match DataFrame index.\n",
      "  outlier_Inds = df_addr[(df_addr['price_per_area'] < lower_bound) | (df['price_per_area'] > upper_bound)].index\n",
      "<ipython-input-23-3d6720bad1c1>:11: UserWarning: Boolean Series key will be reindexed to match DataFrame index.\n",
      "  outlier_Inds = df_addr[(df_addr['price_per_area'] < lower_bound) | (df['price_per_area'] > upper_bound)].index\n",
      "<ipython-input-23-3d6720bad1c1>:11: UserWarning: Boolean Series key will be reindexed to match DataFrame index.\n",
      "  outlier_Inds = df_addr[(df_addr['price_per_area'] < lower_bound) | (df['price_per_area'] > upper_bound)].index\n",
      "<ipython-input-23-3d6720bad1c1>:11: UserWarning: Boolean Series key will be reindexed to match DataFrame index.\n",
      "  outlier_Inds = df_addr[(df_addr['price_per_area'] < lower_bound) | (df['price_per_area'] > upper_bound)].index\n",
      "<ipython-input-23-3d6720bad1c1>:11: UserWarning: Boolean Series key will be reindexed to match DataFrame index.\n",
      "  outlier_Inds = df_addr[(df_addr['price_per_area'] < lower_bound) | (df['price_per_area'] > upper_bound)].index\n",
      "<ipython-input-23-3d6720bad1c1>:11: UserWarning: Boolean Series key will be reindexed to match DataFrame index.\n",
      "  outlier_Inds = df_addr[(df_addr['price_per_area'] < lower_bound) | (df['price_per_area'] > upper_bound)].index\n"
     ]
    }
   ],
   "source": [
    "# Removing outliers using IQR method\n",
    "\n",
    "for addr in range(192): # We have 192 unique addresses\n",
    "    df_addr = df[df['Address'] == addr].copy() # Extracting a DataFrame for a specific address\n",
    "    Q1 = df_addr['price_per_area'].quantile(0.25)\n",
    "    Q3 = df_addr['price_per_area'].quantile(0.75)\n",
    "    IQR = Q3 - Q1\n",
    "    # Define the lower and upper bounds to identify outliers\n",
    "    lower_bound = Q1 - 1.5 * IQR\n",
    "    upper_bound = Q3 + 1.5 * IQR\n",
    "    outlier_Inds = df_addr[(df_addr['price_per_area'] < lower_bound) | (df['price_per_area'] > upper_bound)].index\n",
    "    df.drop(outlier_Inds, inplace=True)"
   ]
  },
  {
   "cell_type": "code",
   "execution_count": 24,
   "id": "661683b6",
   "metadata": {},
   "outputs": [
    {
     "data": {
      "image/png": "[encoded data removed]",
      "text/plain": [
       "<Figure size 432x288 with 2 Axes>"
      ]
     },
     "metadata": {
      "needs_background": "light"
     },
     "output_type": "display_data"
    }
   ],
   "source": [
    "# Effect of dropping outliers using IQR method on 3 example Addresses\n",
    "\n",
    "df_org_West = df_org[df_org['Address'] == 129] # 129: West Ferdows\n",
    "plt.subplot(2,1,1)\n",
    "plt.scatter(df_org_West.Area, df_org_West.Price, color = 'red')\n",
    "plt.ylabel(\"PRICE\")\n",
    "plt.title(\"West Ferdows, before dropping outliers\")\n",
    "\n",
    "df_West = df[df['Address'] == 129] # 129: West Ferdows\n",
    "plt.subplot(2,1,2)\n",
    "plt.scatter(df_West.Area, df_West.Price, color = 'green')\n",
    "plt.title(\"West Ferdows, after dropping outliers\")\n",
    "plt.ylim(0, 2.5e10)\n",
    "plt.tight_layout()\n",
    "plt.show()"
   ]
  },
  {
   "cell_type": "code",
   "execution_count": 25,
   "id": "d02d1483",
   "metadata": {},
   "outputs": [
    {
     "data": {
      "image/png": "[encoded data removed]",
      "text/plain": [
       "<Figure size 432x288 with 2 Axes>"
      ]
     },
     "metadata": {
      "needs_background": "light"
     },
     "output_type": "display_data"
    }
   ],
   "source": [
    "df_org_Gheitarieh = df_org[df_org['Address'] == 175] # 175: Gheitarieh\n",
    "plt.subplot(2,1,1)\n",
    "plt.scatter(df_org_Gheitarieh.Area, df_org_Gheitarieh.Price, color = 'red')\n",
    "plt.xlabel(\"AREA\")\n",
    "plt.ylabel(\"PRICE\")\n",
    "plt.title(\"Gheitarieh, before dropping outliers\")\n",
    "\n",
    "df_Gheitarieh = df[df['Address'] == 175] # 175: Gheitarieh\n",
    "plt.subplot(2,1,2)\n",
    "plt.scatter(df_Gheitarieh.Area, df_Gheitarieh.Price, color = 'green')\n",
    "plt.xlabel(\"AREA\")\n",
    "plt.ylabel(\"PRICE\")\n",
    "plt.title(\"Gheitarieh, after dropping outliers\")\n",
    "plt.xlim(0, 900)\n",
    "plt.tight_layout()\n",
    "plt.show()"
   ]
  },
  {
   "cell_type": "code",
   "execution_count": 26,
   "id": "cb2f7520",
   "metadata": {
    "scrolled": false
   },
   "outputs": [
    {
     "data": {
      "image/png": "[encoded data removed]",
      "text/plain": [
       "<Figure size 432x288 with 2 Axes>"
      ]
     },
     "metadata": {
      "needs_background": "light"
     },
     "output_type": "display_data"
    }
   ],
   "source": [
    "df_org_AmirBahador = df_org[df_org['Address'] == 163] # 163: Amir Bahador\n",
    "plt.subplot(2,1,1)\n",
    "plt.scatter(df_org_AmirBahador.Area, df_org_AmirBahador.Price, color = 'red')\n",
    "plt.xlabel(\"AREA\")\n",
    "plt.ylabel(\"PRICE\")\n",
    "plt.title(\"Amir Bahador, before dropping outliers\")\n",
    "\n",
    "df_AmirBahador = df[df['Address'] == 163] # 163: Amir Bahador\n",
    "plt.subplot(2,1,2)\n",
    "plt.scatter(df_AmirBahador.Area, df_AmirBahador.Price, color = 'green')\n",
    "plt.xlabel(\"AREA\")\n",
    "plt.ylabel(\"PRICE\")\n",
    "plt.title(\"Amir Bahador, after dropping outliers\")\n",
    "plt.ylim(0, 1.2e10)\n",
    "plt.tight_layout()\n",
    "plt.show()"
   ]
  },
  {
   "cell_type": "markdown",
   "id": "0d191666",
   "metadata": {},
   "source": [
    "# Multi-linear regression "
   ]
  },
  {
   "cell_type": "code",
   "execution_count": 27,
   "id": "837b3cca",
   "metadata": {
    "scrolled": true
   },
   "outputs": [
    {
     "data": {
      "image/png": "[encoded data removed]",
      "text/plain": [
       "<Figure size 432x288 with 1 Axes>"
      ]
     },
     "metadata": {
      "needs_background": "light"
     },
     "output_type": "display_data"
    }
   ],
   "source": [
    "# plot price against area (for all addresses)\n",
    "plt.scatter(df.Area, df.Price, color = 'red')\n",
    "plt.xlabel(\"AREA\")\n",
    "plt.ylabel(\"PRICE\")\n",
    "plt.show()"
   ]
  },
  {
   "cell_type": "code",
   "execution_count": 28,
   "id": "9015d9e7",
   "metadata": {
    "scrolled": true
   },
   "outputs": [
    {
     "data": {
      "text/plain": [
       "134    159\n",
       "129    141\n",
       "12     139\n",
       "175    136\n",
       "112    126\n",
       "Name: Address, dtype: int64"
      ]
     },
     "execution_count": 28,
     "metadata": {},
     "output_type": "execute_result"
    }
   ],
   "source": [
    "# plot price against area for a specific address\n",
    "top_addresses = df['Address'].value_counts().head(5) # most common addresses\n",
    "top_addresses"
   ]
  },
  {
   "cell_type": "code",
   "execution_count": 29,
   "id": "aa6bcf49",
   "metadata": {},
   "outputs": [
    {
     "data": {
      "text/plain": [
       "Int64Index([134, 129, 12, 175, 112], dtype='int64')"
      ]
     },
     "execution_count": 29,
     "metadata": {},
     "output_type": "execute_result"
    }
   ],
   "source": [
    "top_addresses.index"
   ]
  },
  {
   "cell_type": "code",
   "execution_count": 30,
   "id": "876dd46d",
   "metadata": {},
   "outputs": [
    {
     "data": {
      "text/plain": [
       "['Rudhen', 'Ray - Montazeri', 'Amirieh', 'Vahidiyeh', 'Ozgol']"
      ]
     },
     "execution_count": 30,
     "metadata": {},
     "output_type": "execute_result"
    }
   ],
   "source": [
    "list(le.inverse_transform(top_addresses.index))"
   ]
  },
  {
   "cell_type": "code",
   "execution_count": 31,
   "id": "52ce994e",
   "metadata": {
    "scrolled": true
   },
   "outputs": [
    {
     "data": {
      "image/png": "[encoded data removed]",
      "text/plain": [
       "<Figure size 432x288 with 4 Axes>"
      ]
     },
     "metadata": {
      "needs_background": "light"
     },
     "output_type": "display_data"
    }
   ],
   "source": [
    "# plot price against area for 4 most frequent addresses\n",
    "\n",
    "df_a = df[df['Address'] == 134] # 134: Rudhen\n",
    "plt.subplot(2,2,1)\n",
    "plt.scatter(df_a.Area, df_a.Price, color = 'blue')\n",
    "plt.ylabel(\"PRICE\")\n",
    "plt.title(\"Rudhen\")\n",
    "\n",
    "df_a = df[df['Address'] == 129] # 129: Ray - Montazeri\n",
    "plt.subplot(2,2,2)\n",
    "plt.scatter(df_a.Area, df_a.Price, color = 'red')\n",
    "plt.title(\"Ray - Montazeri\")\n",
    "\n",
    "df_a = df[df['Address'] == 112] # 112: Amirieh\n",
    "plt.subplot(2,2,3)\n",
    "plt.scatter(df_a.Area, df_a.Price, color = 'red')\n",
    "plt.xlabel(\"AREA\")\n",
    "plt.ylabel(\"PRICE\")\n",
    "plt.title(\"Amirieh\")\n",
    "\n",
    "df_a = df[df['Address'] == 175] # 175: Ozgol\n",
    "plt.subplot(2,2,4)\n",
    "plt.scatter(df_a.Area, df_a.Price, color = 'blue')\n",
    "plt.xlabel(\"AREA\")\n",
    "plt.ylabel(\"PRICE\")\n",
    "plt.title(\"Ozgol\")\n",
    "plt.tight_layout()\n",
    "plt.show()"
   ]
  },
  {
   "cell_type": "code",
   "execution_count": 32,
   "id": "8d7ebff2",
   "metadata": {},
   "outputs": [
    {
     "data": {
      "image/png": "[encoded data removed]",
      "text/plain": [
       "<Figure size 720x576 with 2 Axes>"
      ]
     },
     "metadata": {
      "needs_background": "light"
     },
     "output_type": "display_data"
    }
   ],
   "source": [
    "# First, we plot the correlations and choose the most correlated features with the Price\n",
    "import seaborn as sns\n",
    "correlation_matrix = df.corr()\n",
    "\n",
    "# Plot the correlation matrix using Seaborn\n",
    "plt.figure(figsize=(10, 8))\n",
    "sns.heatmap(correlation_matrix[['Price']], annot=True, cmap='coolwarm', linewidths=0.5)\n",
    "plt.title('Correlation with Price')\n",
    "plt.show()"
   ]
  },
  {
   "cell_type": "code",
   "execution_count": 33,
   "id": "fecf871c",
   "metadata": {},
   "outputs": [],
   "source": [
    "# It seems that the best combination of features would be [Area, Address, Room]"
   ]
  },
  {
   "cell_type": "code",
   "execution_count": 34,
   "id": "bea6eff8",
   "metadata": {},
   "outputs": [],
   "source": [
    "# from sklearn import linear_model\n",
    "from sklearn.metrics import r2_score\n",
    "# from sklearn.metrics import mean_absolute_error\n",
    "# from sklearn.metrics import mean_squared_error\n",
    "# from sklearn.metrics import explained_variance_score\n",
    "\n",
    "\n",
    "from sklearn.model_selection import train_test_split\n",
    "from sklearn.ensemble import GradientBoostingRegressor\n",
    "from sklearn.metrics import mean_squared_error\n",
    "from sklearn.preprocessing import StandardScaler, OneHotEncoder\n",
    "from sklearn.compose import ColumnTransformer\n",
    "from sklearn.pipeline import Pipeline\n"
   ]
  },
  {
   "cell_type": "code",
   "execution_count": 35,
   "id": "4277f170",
   "metadata": {},
   "outputs": [],
   "source": [
    "X = df[['Area', 'Elevator', 'Room', 'Address']]\n",
    "y = df['Price']"
   ]
  },
  {
   "cell_type": "code",
   "execution_count": 36,
   "id": "3e018a88",
   "metadata": {},
   "outputs": [],
   "source": [
    "X_train, X_test, y_train, y_test = train_test_split(X, y, test_size=0.2, random_state=42)"
   ]
  },
  {
   "cell_type": "code",
   "execution_count": 37,
   "id": "d106ca72",
   "metadata": {},
   "outputs": [],
   "source": [
    "numeric_features = ['Area']\n",
    "categorical_features = ['Elevator', 'Room', 'Address']"
   ]
  },
  {
   "cell_type": "code",
   "execution_count": 38,
   "id": "53775ec9",
   "metadata": {},
   "outputs": [],
   "source": [
    "numeric_transformer = Pipeline(steps=[\n",
    "    ('scaler', StandardScaler())\n",
    "])\n",
    "# A pipeline is a sequence of data processing components (transformers) that are chained together...\n",
    "# such that the output of one component is the input of the next. \n",
    "# It's a way to automate a machine learning workflow, including data preprocessing and model fitting."
   ]
  },
  {
   "cell_type": "code",
   "execution_count": 39,
   "id": "bf3e9730",
   "metadata": {},
   "outputs": [],
   "source": [
    "\n",
    "categorical_transformer = Pipeline(steps=[\n",
    "    ('onehot', OneHotEncoder(handle_unknown='ignore'))\n",
    "])"
   ]
  },
  {
   "cell_type": "code",
   "execution_count": 40,
   "id": "b75d53d7",
   "metadata": {},
   "outputs": [
    {
     "data": {
      "text/plain": [
       "Pipeline(steps=[('preprocessor',\n",
       "                 ColumnTransformer(transformers=[('num',\n",
       "                                                  Pipeline(steps=[('scaler',\n",
       "                                                                   StandardScaler())]),\n",
       "                                                  ['Area']),\n",
       "                                                 ('cat',\n",
       "                                                  Pipeline(steps=[('onehot',\n",
       "                                                                   OneHotEncoder(handle_unknown='ignore'))]),\n",
       "                                                  ['Elevator', 'Room',\n",
       "                                                   'Address'])])),\n",
       "                ('regressor', GradientBoostingRegressor(random_state=42))])"
      ]
     },
     "execution_count": 40,
     "metadata": {},
     "output_type": "execute_result"
    }
   ],
   "source": [
    "preprocessor = ColumnTransformer(\n",
    "    transformers=[\n",
    "        ('num', numeric_transformer, numeric_features),\n",
    "        ('cat', categorical_transformer, categorical_features)\n",
    "    ])\n",
    "\n",
    "# Create the pipeline with the preprocessor and the GradientBoostingRegressor\n",
    "model = Pipeline(steps=[('preprocessor', preprocessor),\n",
    "                        ('regressor', GradientBoostingRegressor(random_state=42))])\n",
    "\n",
    "# Fit the model\n",
    "model.fit(X_train, y_train)"
   ]
  },
  {
   "cell_type": "code",
   "execution_count": 41,
   "id": "bf637346",
   "metadata": {},
   "outputs": [
    {
     "name": "stdout",
     "output_type": "stream",
     "text": [
      "Mean Squared Error: 8.057343383303784e+18\n",
      "Root Mean Squared Error: 2838545998.10\n",
      "R2-score: 0.83\n"
     ]
    }
   ],
   "source": [
    "# Predict on the test set\n",
    "y_pred = model.predict(X_test)\n",
    "\n",
    "# Evaluate the model\n",
    "mse = mean_squared_error(y_test, y_pred)\n",
    "print(f'Mean Squared Error: {mse}')\n",
    "\n",
    "# print(\"Mean Absolute Error: %.2f\" % mean_absolute_error(y_test, y_hat))\n",
    "print(\"Root Mean Squared Error: %.2f\" % np.sqrt(mean_squared_error(y_test, y_pred)))\n",
    "print(\"R2-score: %.2f\" % r2_score(y_test , y_pred) )\n",
    "# print(\"Explained Variance Score: %.2f\" % explained_variance_score(y_test, y_pred))"
   ]
  },
  {
   "cell_type": "code",
   "execution_count": 42,
   "id": "1ede4496",
   "metadata": {},
   "outputs": [],
   "source": [
    "# # X: [Area, Address]       Y: Price\n",
    "\n",
    "# regr = linear_model.LinearRegression()\n",
    "\n",
    "# x_train = np.asanyarray(train[['Area','Address']])\n",
    "# y_train = np.asanyarray(train[['Price']])\n",
    "\n",
    "# regr.fit (x_train, y_train)\n",
    "\n",
    "# print ('Coefficients: ', regr.coef_)\n",
    "\n",
    "# y_hat= regr.predict(test[['Area','Address']])\n",
    "\n",
    "# x_test = np.asanyarray(test[['Area','Address']])\n",
    "# y_test = np.asanyarray(test[['Price']])\n",
    "\n",
    "\n",
    "# print(\"Mean Absolute Error: %.2f\" % mean_absolute_error(y_test, y_hat))\n",
    "# print(\"Root Mean Squared Error: %.2f\" % np.sqrt(mean_squared_error(y_test, y_hat)))\n",
    "# print(\"R2-score: %.2f\" % r2_score(y_test , y_hat) )\n",
    "# print(\"Explained Variance Score: %.2f\" % explained_variance_score(y_test, y_hat))"
   ]
  },
  {
   "cell_type": "code",
   "execution_count": null,
   "id": "70bc2d13",
   "metadata": {},
   "outputs": [],
   "source": []
  }
 ],
 "metadata": {
  "kernelspec": {
   "display_name": "Python 3",
   "language": "python",
   "name": "python3"
  },
  "language_info": {
   "codemirror_mode": {
    "name": "ipython",
    "version": 3
   },
   "file_extension": ".py",
   "mimetype": "text/x-python",
   "name": "python",
   "nbconvert_exporter": "python",
   "pygments_lexer": "ipython3",
   "version": "3.8.8"
  }
 },
 "nbformat": 4,
 "nbformat_minor": 5
}

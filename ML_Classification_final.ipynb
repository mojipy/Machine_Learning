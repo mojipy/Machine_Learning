{
 "cells": [
  {
   "cell_type": "code",
   "execution_count": 1,
   "id": "e0b80f83",
   "metadata": {},
   "outputs": [],
   "source": [
    "import matplotlib.pyplot as plt\n",
    "import pandas as pd\n",
    "import numpy as np\n",
    "from sklearn.model_selection import train_test_split\n",
    "%matplotlib inline"
   ]
  },
  {
   "cell_type": "code",
   "execution_count": null,
   "id": "d50b809a",
   "metadata": {
    "scrolled": true
   },
   "outputs": [],
   "source": [
    "!curl -o heart.csv https://maktabkhooneh.org/media/courses/projects/16325569497737558.csv\n",
    "df = pd.read_csv(\"heart.csv\")\n",
    "\n",
    "df.head()"
   ]
  },
  {
   "cell_type": "markdown",
   "id": "0682f530",
   "metadata": {},
   "source": [
    "# Checking data type and size"
   ]
  },
  {
   "cell_type": "code",
   "execution_count": null,
   "id": "57fd5f68",
   "metadata": {},
   "outputs": [],
   "source": [
    "print('The dataset has %d rows and %d columns' % (df.shape[0], df.shape[1]))"
   ]
  },
  {
   "cell_type": "code",
   "execution_count": null,
   "id": "a384f6b6",
   "metadata": {
    "scrolled": false
   },
   "outputs": [],
   "source": [
    "df.dtypes"
   ]
  },
  {
   "cell_type": "code",
   "execution_count": null,
   "id": "5d3dbaae",
   "metadata": {},
   "outputs": [],
   "source": [
    "# all values are numerical"
   ]
  },
  {
   "cell_type": "markdown",
   "id": "20cd0fdc",
   "metadata": {},
   "source": [
    "# Visualize the data"
   ]
  },
  {
   "cell_type": "code",
   "execution_count": null,
   "id": "ab680fff",
   "metadata": {},
   "outputs": [],
   "source": [
    "for column in df.columns:\n",
    "    plt.figure()\n",
    "    df[column].plot(kind = 'hist', edgecolor='black', bins=10)\n",
    "    plt.title(f'Histogram of {column}')\n",
    "    plt.xlabel(column)\n",
    "    plt.ylabel('Frequency')\n",
    "    plt.show()"
   ]
  },
  {
   "cell_type": "code",
   "execution_count": null,
   "id": "e6793f43",
   "metadata": {},
   "outputs": [],
   "source": [
    "# Plot the correlation matrix \n",
    "import seaborn as sns\n",
    "\n",
    "correlation_matrix = df.corr()\n",
    "\n",
    "plt.figure(figsize=(10, 8))\n",
    "sns.heatmap(correlation_matrix[['output']], annot=True, cmap='coolwarm', linewidths=0.5)\n",
    "plt.title('Correlation with Price')\n",
    "plt.show()"
   ]
  },
  {
   "cell_type": "code",
   "execution_count": null,
   "id": "34f2452a",
   "metadata": {},
   "outputs": [],
   "source": [
    "ax = df[df['output'] == 0][0:50].plot(kind='scatter', x='thalachh', y='age', color='Blue', label='low chance');\n",
    "df[df['output'] == 1][0:50].plot(kind='scatter', x='thalachh', y='age', color='Red', label='high chance', ax=ax);\n",
    "plt.show()"
   ]
  },
  {
   "cell_type": "code",
   "execution_count": null,
   "id": "ed99d7a1",
   "metadata": {},
   "outputs": [],
   "source": [
    "feature_df = df[['age', 'sex', 'cp', 'trtbps', 'chol', 'fbs', 'restecg', 'thalachh', 'exng', 'oldpeak', 'slp', 'caa', 'thall']]\n",
    "\n",
    "X = np.asarray(feature_df)\n",
    "X[0:5]"
   ]
  },
  {
   "cell_type": "code",
   "execution_count": null,
   "id": "2324caa5",
   "metadata": {},
   "outputs": [],
   "source": [
    "y = np.asarray(df['output'])\n",
    "y [0:5]"
   ]
  },
  {
   "cell_type": "markdown",
   "id": "f87cf892",
   "metadata": {},
   "source": [
    "## Train/Test dataset"
   ]
  },
  {
   "cell_type": "code",
   "execution_count": null,
   "id": "18ca89b6",
   "metadata": {},
   "outputs": [],
   "source": [
    "X_train, X_test, y_train, y_test = train_test_split( X, y, test_size=0.2, random_state=4)\n",
    "print ('Train set:', X_train.shape,  y_train.shape)\n",
    "print ('Test set:', X_test.shape,  y_test.shape)"
   ]
  },
  {
   "cell_type": "markdown",
   "id": "bbdbc4b8",
   "metadata": {},
   "source": [
    "# Modelling"
   ]
  },
  {
   "cell_type": "markdown",
   "id": "27737216",
   "metadata": {},
   "source": [
    "## 1. SVM with 4 different kernels"
   ]
  },
  {
   "cell_type": "code",
   "execution_count": null,
   "id": "54df6148",
   "metadata": {
    "scrolled": true
   },
   "outputs": [],
   "source": [
    "from sklearn.metrics import f1_score\n",
    "from sklearn import svm\n",
    "\n",
    "kernels = ['linear', 'poly', 'rbf', 'sigmoid']\n",
    "for ker in kernels:\n",
    "    clf = svm.SVC(kernel=ker) # clf stands for \"classifier\" (commonly used abbreviation in ML literature)\n",
    "    clf.fit(X_train, y_train) \n",
    "    \n",
    "    y_pred = clf.predict(X_test)\n",
    "\n",
    "    # Evaluate the models\n",
    "    accuracy = f1_score(y_test, y_pred)\n",
    "    print(f'Model with {ker} kernel - Accuracy: {accuracy}')"
   ]
  },
  {
   "cell_type": "markdown",
   "id": "8214145b",
   "metadata": {},
   "source": [
    "### The best model obtained by the kernel 'linear'"
   ]
  },
  {
   "cell_type": "code",
   "execution_count": null,
   "id": "292d7fcf",
   "metadata": {},
   "outputs": [],
   "source": [
    "clf = svm.SVC(kernel='linear')\n",
    "clf.fit(X_train, y_train) "
   ]
  },
  {
   "cell_type": "markdown",
   "id": "cb366341",
   "metadata": {},
   "source": [
    "## Prediction (SVM)"
   ]
  },
  {
   "cell_type": "code",
   "execution_count": null,
   "id": "c142d577",
   "metadata": {},
   "outputs": [],
   "source": [
    "y_pred = clf.predict(X_test)\n",
    "print('y_predicted:', y_pred[:20])\n",
    "print('y_actual   :', y_test[:20])"
   ]
  },
  {
   "cell_type": "markdown",
   "id": "2ffcbcd2",
   "metadata": {},
   "source": [
    "## Evaluation by Jaccard metric and confusion matrix (SVM)"
   ]
  },
  {
   "cell_type": "code",
   "execution_count": null,
   "id": "b34dcf36",
   "metadata": {},
   "outputs": [],
   "source": [
    "from sklearn.metrics import classification_report, confusion_matrix\n",
    "import itertools"
   ]
  },
  {
   "cell_type": "code",
   "execution_count": null,
   "id": "645fd210",
   "metadata": {},
   "outputs": [],
   "source": [
    "def plot_confusion_matrix(cm, classes,\n",
    "                          normalize=False,\n",
    "                          title='Confusion matrix',\n",
    "                          cmap=plt.cm.Blues):\n",
    "    \"\"\"\n",
    "    This function prints and plots the confusion matrix.\n",
    "    Normalization can be applied by setting `normalize=True`.\n",
    "    \"\"\"\n",
    "    if normalize:\n",
    "        cm = cm.astype('float') / cm.sum(axis=1)[:, np.newaxis]\n",
    "        print(\"Normalized confusion matrix\")\n",
    "    else:\n",
    "        print('Confusion matrix, without normalization')\n",
    "\n",
    "    print(cm)\n",
    "\n",
    "    plt.imshow(cm, interpolation='nearest', cmap=cmap)\n",
    "    plt.title(title)\n",
    "    plt.colorbar()\n",
    "    tick_marks = np.arange(len(classes))\n",
    "    plt.xticks(tick_marks, classes, rotation=45)\n",
    "    plt.yticks(tick_marks, classes)\n",
    "\n",
    "    fmt = '.2f' if normalize else 'd'\n",
    "    thresh = cm.max() / 2.\n",
    "    for i, j in itertools.product(range(cm.shape[0]), range(cm.shape[1])):\n",
    "        plt.text(j, i, format(cm[i, j], fmt),\n",
    "                 horizontalalignment=\"center\",\n",
    "                 color=\"white\" if cm[i, j] > thresh else \"black\")\n",
    "\n",
    "    plt.tight_layout()\n",
    "    plt.ylabel('True Chance')\n",
    "    plt.xlabel('Predicted Chance')"
   ]
  },
  {
   "cell_type": "code",
   "execution_count": null,
   "id": "c9336ad2",
   "metadata": {},
   "outputs": [],
   "source": [
    "# Compute confusion matrix\n",
    "cnf_matrix = confusion_matrix(y_test, y_pred, labels=[0,1])\n",
    "np.set_printoptions(precision=2)\n",
    "\n",
    "print (classification_report(y_test, y_pred))\n",
    "\n",
    "# Plot non-normalized confusion matrix\n",
    "plt.figure()\n",
    "plot_confusion_matrix(cnf_matrix, classes=['Low chance(0)','High chance(2)'],normalize= False,  title=\"Confusion matrix for svm with the kernel 'linear'\")"
   ]
  },
  {
   "cell_type": "code",
   "execution_count": null,
   "id": "d7fa0755",
   "metadata": {},
   "outputs": [],
   "source": [
    "from sklearn.metrics import jaccard_score\n",
    "jaccard_score(y_test, y_pred,pos_label=1)"
   ]
  },
  {
   "cell_type": "code",
   "execution_count": null,
   "id": "ccc86c44",
   "metadata": {},
   "outputs": [],
   "source": [
    "jaccard_score(y_test, y_pred,pos_label=0)"
   ]
  },
  {
   "cell_type": "markdown",
   "id": "ba4841e8",
   "metadata": {},
   "source": [
    "## 2. Logistic Regression with 4 different solvers"
   ]
  },
  {
   "cell_type": "code",
   "execution_count": null,
   "id": "9e2fb5f6",
   "metadata": {
    "scrolled": true
   },
   "outputs": [],
   "source": [
    "from sklearn.linear_model import LogisticRegression\n",
    "\n",
    "solvers = ['liblinear', 'newton-cg', 'sag', 'saga']\n",
    "for slv in solvers:\n",
    "    LR = LogisticRegression(C=0.01, solver=slv).fit(X_train,y_train) # Jadi: default C = 1\n",
    "    y_pred = LR.predict(X_test)\n",
    "\n",
    "    # Evaluate the models\n",
    "    accuracy = f1_score(y_test, y_pred)\n",
    "    print(f'Model with {slv} solver - Accuracy: {accuracy}')\n"
   ]
  },
  {
   "cell_type": "markdown",
   "id": "7bc21ee6",
   "metadata": {},
   "source": [
    "### The best model obtained by the solver 'liblinear'"
   ]
  },
  {
   "cell_type": "markdown",
   "id": "1277d1bc",
   "metadata": {},
   "source": [
    "## Prediction(LogReg)"
   ]
  },
  {
   "cell_type": "code",
   "execution_count": null,
   "id": "b36cf642",
   "metadata": {},
   "outputs": [],
   "source": [
    "LR = LogisticRegression(C=0.01, solver='liblinear').fit(X_train,y_train) \n",
    "y_pred = LR.predict(X_test)\n",
    "print(y_pred[0:20])\n",
    "print(y_test[0:20])"
   ]
  },
  {
   "cell_type": "code",
   "execution_count": null,
   "id": "9b89b830",
   "metadata": {},
   "outputs": [],
   "source": [
    "y_pred_prob = LR.predict_proba(X_test)\n",
    "y_pred_prob[:20]"
   ]
  },
  {
   "cell_type": "markdown",
   "id": "85dffa07",
   "metadata": {},
   "source": [
    "## Evaluation by Jaccard metric and confusion matrix (LogReg)"
   ]
  },
  {
   "cell_type": "code",
   "execution_count": null,
   "id": "ca517f68",
   "metadata": {
    "scrolled": true
   },
   "outputs": [],
   "source": [
    "# Compute confusion matrix\n",
    "cnf_matrix = confusion_matrix(y_test, y_pred, labels=[0,1])\n",
    "np.set_printoptions(precision=2)\n",
    "\n",
    "print (classification_report(y_test, y_pred))\n",
    "\n",
    "# Plot non-normalized confusion matrix\n",
    "plt.figure()\n",
    "plot_confusion_matrix(cnf_matrix, classes=['Low chance(0)','High chance(2)'],normalize= False,  title=\"Conf. matrix for Log. Reg. with the solver 'liblinear'\")"
   ]
  },
  {
   "cell_type": "markdown",
   "id": "ca220a3d",
   "metadata": {},
   "source": [
    "## 3. Decision Tree"
   ]
  },
  {
   "cell_type": "code",
   "execution_count": null,
   "id": "20084f37",
   "metadata": {},
   "outputs": [],
   "source": [
    "from sklearn.tree import DecisionTreeClassifier\n",
    "from sklearn import metrics\n",
    "criterions = ['gini', 'entropy']\n",
    "for crit in criterions:\n",
    "    \n",
    "    heartTree = DecisionTreeClassifier(criterion=crit, max_depth = 4)\n",
    "    \n",
    "    heartTree.fit(X_train,y_train)\n",
    "    y_pred = heartTree.predict(X_test)\n",
    "    \n",
    "    # Evaluate the models\n",
    "    accuracy = f1_score(y_test, y_pred)\n",
    "    print(f'Model with {crit} criterion - Accuracy: {accuracy}')"
   ]
  },
  {
   "cell_type": "code",
   "execution_count": null,
   "id": "7f3b7c0c",
   "metadata": {},
   "outputs": [],
   "source": [
    "print(\"DecisionTrees's Accuracy: \", metrics.accuracy_score(y_test, y_pred))\n"
   ]
  },
  {
   "cell_type": "code",
   "execution_count": null,
   "id": "4acc49d3",
   "metadata": {},
   "outputs": [],
   "source": [
    "# Compute confusion matrix\n",
    "cnf_matrix = confusion_matrix(y_test, y_pred, labels=[0,1])\n",
    "np.set_printoptions(precision=2)\n",
    "\n",
    "print (classification_report(y_test, y_pred))\n",
    "\n",
    "# Plot non-normalized confusion matrix\n",
    "plt.figure()\n",
    "plot_confusion_matrix(cnf_matrix, classes=['Low chance(0)','High chance(2)'],normalize= False,  title=\"Conf. matrix for Decision Tree Classifier\")"
   ]
  },
  {
   "cell_type": "code",
   "execution_count": null,
   "id": "d23371a5",
   "metadata": {},
   "outputs": [],
   "source": [
    "from sklearn import metrics\n",
    "print(\"DecisionTrees's Accuracy: \", metrics.accuracy_score(y_test, y_pred))"
   ]
  },
  {
   "cell_type": "code",
   "execution_count": null,
   "id": "8e77f1be",
   "metadata": {},
   "outputs": [],
   "source": []
  }
 ],
 "metadata": {
  "kernelspec": {
   "display_name": "Python 3",
   "language": "python",
   "name": "python3"
  },
  "language_info": {
   "codemirror_mode": {
    "name": "ipython",
    "version": 3
   },
   "file_extension": ".py",
   "mimetype": "text/x-python",
   "name": "python",
   "nbconvert_exporter": "python",
   "pygments_lexer": "ipython3",
   "version": "3.8.8"
  }
 },
 "nbformat": 4,
 "nbformat_minor": 5
}
